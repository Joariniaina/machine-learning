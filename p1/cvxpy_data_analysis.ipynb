{
 "cells": [
  {
   "cell_type": "markdown",
   "id": "65838e52",
   "metadata": {},
   "source": [
    "## MISA (2024-2025)\n",
    "- Alohan'ny mamerina dia avereno atao Run ny notebook iray manontolo. Ny fanaovana azy dia redémarrena mihitsy ny kernel aloha (jereo menubar, safidio **Kernel$\\rightarrow$Restart Kernel and Run All Cells**).\n",
    "\n",
    "- Izay misy hoe `YOUR CODE HERE` na `YOUR ANSWER HERE` ihany no fenoina. Afaka manampy cells vaovao raha ilaina. Aza adino ny mameno references eo ambany raha ilaina."
   ]
  },
  {
   "cell_type": "markdown",
   "id": "8d5cd514",
   "metadata": {},
   "source": [
    "## References\n",
    "* [Python time module](https://docs.python.org/3/library/time.html)\n",
    "* [scipy](https://docs.scipy.org/doc/scipy/reference/generated/scipy.stats.f_oneway.html)\n",
    "* [matplotlib](https://matplotlib.org/stable/index.html)"
   ]
  },
  {
   "cell_type": "markdown",
   "id": "4cce265a",
   "metadata": {},
   "source": [
    "---"
   ]
  },
  {
   "cell_type": "code",
   "execution_count": 1,
   "id": "23d2fc7d-e7da-45a2-96da-150490ea88ba",
   "metadata": {
    "deletable": false,
    "editable": false,
    "nbgrader": {
     "cell_type": "code",
     "checksum": "9daa1a343c2669a7cd09b2485585eb2a",
     "grade": false,
     "grade_id": "cell-082bff63513625c1",
     "locked": true,
     "schema_version": 3,
     "solution": false,
     "task": false
    },
    "tags": []
   },
   "outputs": [],
   "source": [
    "import cvxpy as cp\n",
    "import pandas as pd\n",
    "import numpy as np\n",
    "from sklearn.datasets import load_diabetes\n",
    "from sklearn.kernel_ridge import KernelRidge\n",
    "from sklearn.linear_model import LinearRegression\n",
    "from sklearn.metrics import mean_squared_error\n",
    "\n",
    "def rel_error(x, y):\n",
    "    \"\"\" returns relative error \"\"\"\n",
    "    return np.max(np.abs(x - y) / (np.maximum(1e-8, np.abs(x) + np.abs(y))))\n",
    "\n",
    "data = load_diabetes()\n",
    "X_train, y_train = data.data, data.target"
   ]
  },
  {
   "cell_type": "markdown",
   "id": "3b9814ff-7efb-44b3-8e1e-621f7d913008",
   "metadata": {
    "deletable": false,
    "editable": false,
    "nbgrader": {
     "cell_type": "markdown",
     "checksum": "0e22a05de0c062dc145a1ffec9f85b36",
     "grade": false,
     "grade_id": "cell-35882f3a65ced359",
     "locked": true,
     "schema_version": 3,
     "solution": false,
     "task": false
    },
    "tags": []
   },
   "source": [
    "## Linear Program\n",
    "\n",
    "The minimum amount of nutrients of a healthy diet is presented in the following table:\n",
    "|  Nutrient | Minimum recommended intake |  \n",
    "|---|---|\n",
    "|  Calories | 3 kcal  |  \n",
    "|  Protein | 70 g  |   \n",
    "|  Calcium | 0.8 g  |  \n",
    "|  Iron | 12 mg  | \n",
    "|  Vitamin A | 5000 IU  | \n",
    "|  Vitamin B1 | 1.8 mg  | \n",
    "|  Vitamin B2 | 2.7 mg  | \n",
    "|  Niacin | 18 mg  | \n",
    "|  Vitamin C | 75 mg  | \n",
    "\n",
    "Each row of the table in the *diet.csv* file presents the amount of nutrients present in one dollar worth of food. How many dollars should one spend on each food so that the total cost is minimum ?"
   ]
  },
  {
   "cell_type": "code",
   "execution_count": 2,
   "id": "a3286dbb-1945-45b7-a8bb-ff0db47fdd71",
   "metadata": {
    "deletable": false,
    "nbgrader": {
     "cell_type": "code",
     "checksum": "c1236045c7760368e86176a1099d6e64",
     "grade": false,
     "grade_id": "cell-be4151570b08229b",
     "locked": false,
     "schema_version": 3,
     "solution": true,
     "task": false
    },
    "tags": []
   },
   "outputs": [
    {
     "name": "stdout",
     "output_type": "stream",
     "text": [
      "Montant optimal dépensé pour chaque aliment :\n",
      "Wheat Flour (Enriched): $1.524284818757732e-10\n",
      "Macaroni: $6.50584971104175e-11\n",
      "Wheat Cereal (Enriched): $3.9480305411636124e-10\n",
      "Corn Flakes: $4.1461321303699845e-11\n",
      "Corn Meal: $9.106471323989057e-11\n",
      "Hominy Grits: $7.715289452706178e-11\n",
      "Rice: $6.738939031983216e-11\n",
      "Rolled Oats: $1.1229978356854166e-10\n",
      "White Bread (Enriched): $7.856544792666362e-11\n",
      "Whole Wheat Bread: $7.927436823801561e-11\n",
      "Rye Bread: $6.884275647165782e-11\n",
      "Pound Cake: $1.070581313624833e-12\n",
      "Soda Crackers: $4.6743408552047643e-11\n",
      "Milk: $1.8505211174502584e-10\n",
      "Evaporated Milk (can): $2.9072280807099125e-10\n",
      "Eggs: $4.188857333519079e-11\n",
      "Cheese (Cheddar): $0.048780487064150356\n",
      "Peanut Butter: $8.44474873575268e-11\n",
      "Lard: $2.741332611264827e-11\n",
      "Sirloin Steak: $1.626086524140374e-11\n",
      "Round Steak: $3.147544239871472e-11\n",
      "Rib Roast: $2.740978170570047e-11\n",
      "Chuck Roast: $5.073813647138834e-11\n",
      "Plate: $6.053444067090488e-11\n",
      "Liver (Beef): $9.238450118248744e-11\n",
      "Leg of Lamb: $3.824083905487237e-11\n",
      "Lamb Chops (Rib): $3.644697640895484e-12\n",
      "Pork Chops: $3.853384807356296e-11\n",
      "Pork Loin Roast: $4.4685358106488904e-11\n",
      "Bacon: $1.1621093271213285e-11\n",
      "Ham, smoked: $3.2377402235895304e-11\n",
      "Salt Pork: $1.4110935672132477e-11\n",
      "Roasting Chicken: $2.2141052577669055e-11\n",
      "Veal Cutlets: $1.0958120982040967e-11\n",
      "Salmon, Pink (can): $1.2526866813083875e-10\n",
      "Apples: $5.512986533477388e-11\n",
      "Bananas: $5.272212834297267e-11\n",
      "Lemons: $7.375466219214927e-11\n",
      "Oranges: $9.656230314621849e-11\n",
      "Green Beans: $1.0578691941671312e-10\n",
      "Cabbage: $1.2808976214850342e-10\n",
      "Carrots: $1.1538486039417193e-10\n",
      "Celery: $4.3300216398791706e-11\n",
      "Lettuce: $5.703533801215314e-11\n",
      "Onions: $1.0366068665605676e-10\n",
      "Potatoes: $1.0318281021725641e-10\n",
      "Spinach: $5.44275834957086\n",
      "Sweet Potatoes: $1.7948527808671944e-10\n",
      "Peaches (can): $4.281609919990901e-12\n",
      "Pineapple (can): $3.919617910893285e-11\n",
      "Asparagus (can): $1.983421243743686e-11\n",
      "Green Beans (can): $6.15724417295828e-11\n",
      "Pork and Beans (can): $8.245306709702059e-11\n",
      "Corn (can): $1.6029573601416674e-11\n",
      "Peas (can): $4.3989427792104846e-11\n",
      "Tomatoes (can): $9.040348945020907e-11\n",
      "Tomato Soup (can): $8.021293941993757e-11\n",
      "Peaches, Dried: $6.741960383363512e-11\n",
      "Prunes, Dried: $7.182075659536524e-11\n",
      "Raisins, Dried: $4.695789711976089e-11\n",
      "Peas, Dried: $1.1740086648667898e-10\n",
      "Lima Beans, Dried: $1.04002603139065e-10\n",
      "Navy Beans, Dried: $1.4667120399252162e-11\n",
      "Cocoa: $5.535379938561789e-11\n",
      "Sugar: $1.199546638930583e-11\n",
      "Molasses: $1.8196319116558535e-10\n"
     ]
    }
   ],
   "source": [
    "df = pd.read_csv(\"diet.csv\", index_col=0)\n",
    "\n",
    "# Définir les variables d'optimisation : montant dépensé pour chaque aliment (en dollars)\n",
    "x = cp.Variable(len(df), nonneg=True)  # Montants dépensés pour chaque aliment\n",
    "\n",
    "# Apports minimaux recommandés\n",
    "min_nutrients = {\n",
    "    \"Calories (1000)\": 3,  # Calories minimales\n",
    "    \"Protein (g)\": 70,  # Protéines minimales\n",
    "    \"Calcium (g)\": 0.8,  # Calcium minimal\n",
    "    \"Iron (mg)\": 12,  # Fer minimal\n",
    "    \"Vitamin A (1000 IU)\": 5000,  # Vitamine A minimale\n",
    "    \"Thiamine (mg)\": 1.8,  # Thiamine minimale\n",
    "    \"Riboflavin (mg)\": 2.7,  # Riboflavine minimale\n",
    "    \"Niacin (mg)\": 18,  # Niacine minimale\n",
    "    \"Ascorbic Acid (mg)\": 75  # Acide ascorbique minimal\n",
    "}\n",
    "\n",
    "# Fonction objectif : Minimiser le coût total\n",
    "# Le coût est simplement la somme des montants dépensés (chaque aliment a un coût de 1$ par dollar dépensé)\n",
    "objective = cp.Minimize(cp.sum(x))\n",
    "\n",
    "# Contraintes nutritionnelles : chaque nutriment doit respecter l'apport minimum\n",
    "constraints = []\n",
    "for nutrient, min_value in min_nutrients.items():\n",
    "    if nutrient in df.columns:\n",
    "        # La contrainte est que la somme des nutriments (quantité dans chaque aliment * dollars dépensés) soit supérieure au minimum requis\n",
    "        constraints.append(df[nutrient].values @ x >= min_value)\n",
    "    else:\n",
    "        print(f\"Attention : La colonne '{nutrient}' n'est pas présente dans les données.\")\n",
    "\n",
    "# Formuler et résoudre le problème\n",
    "problem = cp.Problem(objective, constraints)\n",
    "problem.solve()\n",
    "\n",
    "# Extraire la solution optimale\n",
    "opt_solution = {df.index[i]: x.value[i] for i in range(len(df)) if x.value[i] > 0}\n",
    "\n",
    "# Afficher la solution optimale\n",
    "print(\"Montant optimal dépensé pour chaque aliment :\")\n",
    "for food, amount in opt_solution.items():\n",
    "    print(f\"{food}: ${amount}\")\n"
   ]
  },
  {
   "cell_type": "code",
   "execution_count": null,
   "id": "16b62e63-7ef3-40ef-a01d-878841e3d553",
   "metadata": {
    "deletable": false,
    "editable": false,
    "nbgrader": {
     "cell_type": "code",
     "checksum": "19e5e139d646598f7fbc0b3cc070660c",
     "grade": true,
     "grade_id": "cell-06898dbdc16a7239",
     "locked": true,
     "points": 5,
     "schema_version": 3,
     "solution": false,
     "task": false
    },
    "tags": []
   },
   "outputs": [],
   "source": []
  },
  {
   "cell_type": "markdown",
   "id": "4e7d39d6-5793-4c5a-a591-29a64ec580a5",
   "metadata": {},
   "source": [
    "## Non-negative Linear Regression"
   ]
  },
  {
   "cell_type": "code",
   "execution_count": 3,
   "id": "d4830aa6-efb5-4109-a552-5c24b9625eed",
   "metadata": {
    "deletable": false,
    "nbgrader": {
     "cell_type": "code",
     "checksum": "491ce8f1fb97752934c7e7cb74f7993e",
     "grade": false,
     "grade_id": "cell-e2bc1cd96cb2944c",
     "locked": false,
     "schema_version": 3,
     "solution": true,
     "task": false
    },
    "tags": []
   },
   "outputs": [],
   "source": [
    "class NonNegativeLinearRegression:\n",
    "    def __init__(self, fit_intercept=True):\n",
    "        # Initialisation des coefficients\n",
    "        self.w = None\n",
    "        self.fit_intercept = fit_intercept\n",
    "        \n",
    "    def fit(self, X, y):\n",
    "        # Si fit_intercept est True, ajoutons une colonne de 1 pour le biais\n",
    "        if self.fit_intercept:\n",
    "            X = np.column_stack([np.ones(X.shape[0]), X])\n",
    "        \n",
    "        # Nombre de caractéristiques\n",
    "        n_features = X.shape[1]\n",
    "        \n",
    "        # Définition des variables de décision (coefficients)\n",
    "        w = cp.Variable(n_features, nonneg=True)  # Coefficients non négatifs\n",
    "        \n",
    "        # Fonction de coût : somme des erreurs quadratiques\n",
    "        residuals = X @ w - y  # Résidus de la prédiction\n",
    "        cost = cp.sum_squares(residuals)  # Erreur quadratique\n",
    "        \n",
    "        # Résoudre le problème d'optimisation\n",
    "        problem = cp.Problem(cp.Minimize(cost))\n",
    "        problem.solve()\n",
    "\n",
    "        # Extraire les coefficients\n",
    "        self.w = w.value\n",
    "        \n",
    "    def predict(self, X):\n",
    "        # Si fit_intercept est True, ajoutons une colonne de 1 pour le biais\n",
    "        if self.fit_intercept:\n",
    "            X = np.column_stack([np.ones(X.shape[0]), X])\n",
    "        \n",
    "        # Prédiction : X @ w (produit matriciel)\n",
    "        return X @ self.w\n"
   ]
  },
  {
   "cell_type": "code",
   "execution_count": 4,
   "id": "811b40ff-2af0-45f8-9e0d-46d191b76fea",
   "metadata": {
    "deletable": false,
    "editable": false,
    "nbgrader": {
     "cell_type": "code",
     "checksum": "76e98c6c9eab73b19d0d4fa9af197b5b",
     "grade": true,
     "grade_id": "cell-e389fecb27a46bdf",
     "locked": true,
     "points": 5,
     "schema_version": 3,
     "solution": false,
     "task": false
    },
    "tags": []
   },
   "outputs": [
    {
     "name": "stdout",
     "output_type": "stream",
     "text": [
      "MSE scikit-learn: 3074.1786797315144\n",
      "MSE gradient descent model : 3074.1786797315144\n"
     ]
    }
   ],
   "source": [
    "nnlr = NonNegativeLinearRegression(fit_intercept=True)\n",
    "nnlr.fit(X_train,y_train)\n",
    "y_pred = nnlr.predict(X_train)\n",
    "mse = mean_squared_error(y_pred, y_train)\n",
    "\n",
    "sk_model = LinearRegression(fit_intercept=True, positive=True)\n",
    "sk_model.fit(X_train, y_train)\n",
    "sk_pred = sk_model.predict(X_train)\n",
    "sk_mse = mean_squared_error(sk_pred, y_train)\n",
    "\n",
    "print(\"MSE scikit-learn:\", sk_mse)\n",
    "print(\"MSE gradient descent model :\", mse)\n",
    "assert mse - sk_mse < 200"
   ]
  },
  {
   "cell_type": "markdown",
   "id": "70c841d7-d554-4a77-964d-a1df1527eb0d",
   "metadata": {
    "deletable": false,
    "editable": false,
    "nbgrader": {
     "cell_type": "markdown",
     "checksum": "ac1ba1c40b5bca01399853c5cd06971d",
     "grade": false,
     "grade_id": "cell-b6461e42bf4cd48c",
     "locked": true,
     "schema_version": 3,
     "solution": false,
     "task": false
    },
    "tags": []
   },
   "source": [
    "## Compare the runtime of the different Linear regression training methods using a large dataset. You might want to plot the results and perform a statistical test. "
   ]
  },
  {
   "cell_type": "code",
   "execution_count": 5,
   "id": "39fc3cb0",
   "metadata": {},
   "outputs": [],
   "source": [
    "import numpy as np\n",
    "import scipy\n",
    "from sklearn.metrics import mean_squared_error\n",
    "from sklearn import datasets\n",
    "from sklearn.linear_model import LinearRegression as LR\n",
    "import time\n",
    "import matplotlib.pyplot as plt\n",
    "from scipy.stats import f_oneway"
   ]
  },
  {
   "cell_type": "markdown",
   "id": "6257cc8b",
   "metadata": {},
   "source": [
    "### INVERSE"
   ]
  },
  {
   "cell_type": "code",
   "execution_count": 6,
   "id": "d156341c",
   "metadata": {},
   "outputs": [],
   "source": [
    "def fit_inverse(X, y):\n",
    "    \"\"\"Direct method using the inverse (without bias term)\"\"\"\n",
    "    \n",
    "    # Calculer la matrice X^T X\n",
    "    XtX = np.dot(X.T,X)\n",
    "\n",
    "    # Vérifier si X^T X est inversible (si son déterminant est non nul)\n",
    "    if np.linalg.det(XtX) == 0:\n",
    "        raise ValueError(\"La matrice X^T X est singulière, donc l'inverse ne peut pas être calculé.\")\n",
    "    \n",
    "    # Calculer l'inverse de X^T X\n",
    "    XtX_inv = np.linalg.inv(XtX)\n",
    "\n",
    "    # Calculer les coefficients beta\n",
    "    Xt_y = np.dot(X.T, y)\n",
    "\n",
    "    beta = np.dot(XtX_inv, Xt_y)\n",
    "    \n",
    "    return beta"
   ]
  },
  {
   "cell_type": "markdown",
   "id": "a50086ca",
   "metadata": {},
   "source": [
    "### CHOLESKY"
   ]
  },
  {
   "cell_type": "code",
   "execution_count": 7,
   "id": "d1646b09",
   "metadata": {},
   "outputs": [],
   "source": [
    "def fit_cholesky(X, y):\n",
    "    \"\"\" Cholesky approach \"\"\"\n",
    "    # Calculer X^T X\n",
    "    XtX = np.dot(X.T, X)\n",
    "\n",
    "    # Vérifier que la matrice XtX est définie positive avant de faire la décomposition de Cholesky\n",
    "    if np.all(np.linalg.eigvals(XtX) > 0):\n",
    "        # Calculer la décomposition de Cholesky de XtX\n",
    "        L = np.linalg.cholesky(XtX)\n",
    "\n",
    "        # Résoudre Lz = X^T y pour z (première étape)\n",
    "        z = np.linalg.solve(L, np.dot(X.T, y))\n",
    "\n",
    "        # Résoudre L^T beta = z pour beta (deuxième étape)\n",
    "        beta = np.linalg.solve(L.T, z)\n",
    "        return beta\n",
    "    else:\n",
    "        raise ValueError(\"La matrice X^T X n'est pas définie positive, décomposition de Cholesky échouée.\")\n"
   ]
  },
  {
   "cell_type": "markdown",
   "id": "d92c281d",
   "metadata": {},
   "source": [
    "### QR"
   ]
  },
  {
   "cell_type": "code",
   "execution_count": 8,
   "id": "d15f7eba",
   "metadata": {},
   "outputs": [],
   "source": [
    "def fit_qr(X, y):\n",
    "    \"\"\" QR approach \"\"\"\n",
    "    # Décomposition QR de X\n",
    "    Q, R = np.linalg.qr(X)\n",
    "    \n",
    "    # Résoudre pour beta en utilisant R et Q^T y\n",
    "    Qt_y = np.dot(Q.T, y)  # Calculer Q^T y\n",
    "    beta = np.linalg.solve(R, Qt_y)  # Résoudre R beta = Q^T y\n",
    "    \n",
    "    return beta"
   ]
  },
  {
   "cell_type": "markdown",
   "id": "85ace55b",
   "metadata": {},
   "source": [
    "### SVD"
   ]
  },
  {
   "cell_type": "code",
   "execution_count": 9,
   "id": "5699de4c",
   "metadata": {},
   "outputs": [],
   "source": [
    "def fit_svd(X, y):\n",
    "    \"\"\" SVD approach for solving X^T X beta = X^T y \"\"\"\n",
    "    \n",
    "    # Calculer la décomposition SVD de X\n",
    "    U, Sigma, Vt = np.linalg.svd(X, full_matrices=False)\n",
    "    \n",
    "    \n",
    "    # Inverser Sigma (les valeurs singulières de X)\n",
    "    Sigma_inv = np.diag(1.0 / Sigma)  # Inverser les valeurs singulières\n",
    "    \n",
    "    # Calculer beta = V * Sigma_inv * U.T * y\n",
    "    # On peut directement calculer la multiplication dans l'ordre suivant :\n",
    "    beta = np.dot(Vt.T, np.dot(Sigma_inv, np.dot(U.T, y)))\n",
    "    \n",
    "    return beta"
   ]
  },
  {
   "cell_type": "markdown",
   "id": "0d2ee68a",
   "metadata": {},
   "source": [
    "### PSEUDO-INVERSE"
   ]
  },
  {
   "cell_type": "code",
   "execution_count": 10,
   "id": "694f7a38",
   "metadata": {},
   "outputs": [],
   "source": [
    "import numpy as np\n",
    "\n",
    "def fit_pseudo_inverse(X, y):\n",
    "    \"\"\"\n",
    "    Calcule les coefficients de régression linéaire à partir du pseudoinverse de X.T X.\n",
    "    \n",
    "    Parameters:\n",
    "    X : array-like, shape (n_samples, n_features)\n",
    "        Matrice des caractéristiques.\n",
    "    y : array-like, shape (n_samples,)\n",
    "        Valeurs cibles.\n",
    "    \n",
    "    Returns:\n",
    "    beta : array-like, shape (n_features,)\n",
    "        Coefficients de régression linéaire.\n",
    "    \"\"\"\n",
    "    # Calculer X.T X\n",
    "    XtX = np.dot(X.T, X)\n",
    "    \n",
    "    # Calculer le pseudoinverse de XtX\n",
    "    XtX_pseudo_inv = np.linalg.pinv(XtX)\n",
    "    \n",
    "    # Calculer les coefficients beta\n",
    "    Xt_y = np.dot(X.T, y)\n",
    "    beta = np.dot(XtX_pseudo_inv, Xt_y)\n",
    "    \n",
    "    return beta\n"
   ]
  },
  {
   "cell_type": "code",
   "execution_count": 11,
   "id": "0820f182-0422-4d1a-8780-f451185310c3",
   "metadata": {
    "deletable": false,
    "nbgrader": {
     "cell_type": "code",
     "checksum": "c22ce9a483ea01c07bb8523f99cb4440",
     "grade": true,
     "grade_id": "cell-c530888d2e9aaa22",
     "locked": false,
     "points": 10,
     "schema_version": 3,
     "solution": true,
     "task": false
    },
    "tags": []
   },
   "outputs": [
    {
     "name": "stdout",
     "output_type": "stream",
     "text": [
      "Temps moyen d'exécution pour fit_inverse: 0.000518 secondes\n",
      "Temps moyen d'exécution pour fit_cholesky: 0.000139 secondes\n",
      "Temps moyen d'exécution pour fit_qr: 0.000152 secondes\n",
      "Temps moyen d'exécution pour fit_svd: 0.000097 secondes\n",
      "Temps moyen d'exécution pour fit_pseudo_inverse: 0.000078 secondes\n",
      "\n",
      "La méthode la plus rapide est fit_pseudo_inverse avec un temps moyen de 0.000078 secondes.\n"
     ]
    },
    {
     "data": {
      "image/png": "[encoded data removed]",
      "text/plain": [
       "<Figure size 1000x600 with 1 Axes>"
      ]
     },
     "metadata": {},
     "output_type": "display_data"
    }
   ],
   "source": [
    "def compare_methods(X, y, n_repeats=10):\n",
    "    # Initialisation d'une liste pour stocker les temps d'exécution\n",
    "    times = {method_name: [] for method_name in ['fit_inverse', 'fit_cholesky', 'fit_qr', 'fit_svd', 'fit_pseudo_inverse']}\n",
    "    \n",
    "    # Liste des méthodes à tester\n",
    "    methods = [fit_inverse, fit_cholesky, fit_qr, fit_svd, fit_pseudo_inverse]\n",
    "    method_names = ['fit_inverse', 'fit_cholesky', 'fit_qr', 'fit_svd', 'fit_pseudo_inverse']\n",
    "\n",
    "    # Mesurer le temps d'exécution de chaque méthode n_repeats fois\n",
    "    for i, method in enumerate(methods):\n",
    "        for _ in range(n_repeats):\n",
    "            start_time = time.time()\n",
    "            method(X, y)\n",
    "            elapsed_time = time.time() - start_time\n",
    "            times[method_names[i]].append(elapsed_time)\n",
    "\n",
    "    # Calculer les temps d'exécution moyens\n",
    "    avg_times = [np.mean(times[method]) for method in method_names]\n",
    "\n",
    "    # Afficher les temps moyens dans la console\n",
    "    for method, avg_time in zip(method_names, avg_times):\n",
    "        print(f\"Temps moyen d'exécution pour {method}: {avg_time:.6f} secondes\")\n",
    "\n",
    "    # Comparer les temps moyens\n",
    "    fastest_method_index = np.argmin(avg_times)\n",
    "    print(f\"\\nLa méthode la plus rapide est {method_names[fastest_method_index]} avec un temps moyen de {avg_times[fastest_method_index]:.6f} secondes.\")\n",
    "\n",
    "    # Tracer les temps d'exécution\n",
    "    plt.figure(figsize=(10, 6))\n",
    "    plt.bar(method_names, avg_times, color='skyblue')\n",
    "    plt.xlabel('Méthode')\n",
    "    plt.ylabel('Temps d\\'exécution moyen (secondes)')\n",
    "    plt.title('Comparaison des temps d\\'exécution des méthodes de régression linéaire')\n",
    "    plt.show()\n",
    "\n",
    "# Comparer les méthodes\n",
    "compare_methods(X_train, y_train)"
   ]
  }
 ],
 "metadata": {
  "kernelspec": {
   "display_name": "Python 3",
   "language": "python",
   "name": "python3"
  },
  "language_info": {
   "codemirror_mode": {
    "name": "ipython",
    "version": 3
   },
   "file_extension": ".py",
   "mimetype": "text/x-python",
   "name": "python",
   "nbconvert_exporter": "python",
   "pygments_lexer": "ipython3",
   "version": "3.12.4"
  }
 },
 "nbformat": 4,
 "nbformat_minor": 5
}
