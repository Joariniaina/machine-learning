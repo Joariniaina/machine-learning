{
 "cells": [
  {
   "cell_type": "markdown",
   "metadata": {},
   "source": [
    "### IMPORTATION DU LIBRAIRIE"
   ]
  },
  {
   "cell_type": "code",
   "execution_count": 97,
   "metadata": {},
   "outputs": [
    {
     "name": "stderr",
     "output_type": "stream",
     "text": [
      "[nltk_data] Downloading package stopwords to\n",
      "[nltk_data]     /home/anthony/nltk_data...\n",
      "[nltk_data]   Package stopwords is already up-to-date!\n"
     ]
    }
   ],
   "source": [
    "# Numpy Library for Numerical Calculations\n",
    "import numpy as np\n",
    "import pandas as pd\n",
    "import matplotlib.pyplot as plt\n",
    "import nltk\n",
    "import seaborn as sns\n",
    "nltk.download('stopwords') # Downloading the Stopwords\n",
    "from nltk.corpus import stopwords\n",
    "from nltk.stem.porter import PorterStemmer\n",
    "from sklearn.feature_extraction.text import CountVectorizer\n",
    "from sklearn.model_selection import train_test_split\n",
    "from sklearn.naive_bayes import MultinomialNB\n",
    "from sklearn.metrics import f1_score\n",
    "from sklearn.preprocessing import LabelEncoder\n",
    "from sklearn.naive_bayes import BernoulliNB\n",
    "from sklearn.linear_model import LogisticRegression"
   ]
  },
  {
   "cell_type": "code",
   "execution_count": 98,
   "metadata": {},
   "outputs": [],
   "source": [
    "spam_data = pd.read_csv('spam.csv', encoding='latin1', index_col=None)"
   ]
  },
  {
   "cell_type": "code",
   "execution_count": 90,
   "metadata": {},
   "outputs": [
    {
     "name": "stdout",
     "output_type": "stream",
     "text": [
      "     v1                                                 v2 Unnamed: 2  \\\n",
      "0   ham  Go until jurong point, crazy.. Available only ...        NaN   \n",
      "1   ham                      Ok lar... Joking wif u oni...        NaN   \n",
      "2  spam  Free entry in 2 a wkly comp to win FA Cup fina...        NaN   \n",
      "3   ham  U dun say so early hor... U c already then say...        NaN   \n",
      "4   ham  Nah I don't think he goes to usf, he lives aro...        NaN   \n",
      "\n",
      "  Unnamed: 3 Unnamed: 4  \n",
      "0        NaN        NaN  \n",
      "1        NaN        NaN  \n",
      "2        NaN        NaN  \n",
      "3        NaN        NaN  \n",
      "4        NaN        NaN  \n"
     ]
    }
   ],
   "source": [
    "print(spam_data.head())"
   ]
  },
  {
   "cell_type": "code",
   "execution_count": 99,
   "metadata": {},
   "outputs": [
    {
     "name": "stdout",
     "output_type": "stream",
     "text": [
      "Fichier CSV créé avec succès !\n"
     ]
    }
   ],
   "source": [
    "# Créer un CountVectorizer pour extraire les mots uniques et leur fréquence\n",
    "vectorizer = CountVectorizer(stop_words='english')  # On peut ajouter d'autres stopwords si nécessaire\n",
    "\n",
    "# Appliquer le vectorizer sur les textes\n",
    "X = vectorizer.fit_transform(spam_data['v2'])\n",
    "\n",
    "# Créer un DataFrame avec les mots uniques comme colonnes et les comptages comme valeurs\n",
    "word_counts = pd.DataFrame(X.toarray(), columns=vectorizer.get_feature_names_out())\n",
    "\n",
    "# Ajouter la colonne \"target\" au nouveau DataFrame\n",
    "word_counts['target'] = spam_data['v1']\n",
    "\n",
    "# Sauvegarder le DataFrame résultant dans un nouveau fichier CSV\n",
    "word_counts.to_csv('mots_compte.csv', index=False)\n",
    "\n",
    "print(\"Fichier CSV créé avec succès !\")\n"
   ]
  },
  {
   "cell_type": "code",
   "execution_count": null,
   "metadata": {},
   "outputs": [
    {
     "name": "stdout",
     "output_type": "stream",
     "text": [
      "Les données ont été divisées et sauvegardées dans 'train.csv' et 'test.csv'.\n"
     ]
    }
   ],
   "source": [
    "spam_data = pd.read_csv('mots_compte.csv', index_col=None, encoding='ISO-8859-1')\n",
    "\n",
    "# Séparer les caractéristiques (X) et la cible (y)\n",
    "X = spam_data.drop('target', axis=1)  # 'target' est la colonne contenant \"ham\" et \"spam\"\n",
    "y = spam_data['target']  # La colonne cible (ham, spam)\n",
    "\n",
    "# Diviser les données en ensembles d'entraînement (80%) et de test (20%), en utilisant la stratification\n",
    "X_train, X_test, y_train, y_test = train_test_split(X, y, test_size=0.2, random_state=42, stratify=y)\n",
    "\n",
    "# Combiner les ensembles X_train et y_train, X_test et y_test\n",
    "train_data = pd.concat([X_train, y_train], axis=1)\n",
    "test_data = pd.concat([X_test, y_test], axis=1)\n",
    "\n",
    "# Sauvegarder les ensembles dans des fichiers CSV\n",
    "train_data.to_csv('train.csv', index=False)\n",
    "test_data.to_csv('test.csv', index=False)\n",
    "\n",
    "print(\"Les données ont été divisées et sauvegardées dans 'train.csv' et 'test.csv'.\")\n"
   ]
  },
  {
   "cell_type": "code",
   "execution_count": 100,
   "metadata": {},
   "outputs": [],
   "source": [
    "train_data = pd.read_csv('train.csv')\n",
    "test_data = pd.read_csv('test.csv')"
   ]
  },
  {
   "cell_type": "code",
   "execution_count": 101,
   "metadata": {},
   "outputs": [
    {
     "name": "stdout",
     "output_type": "stream",
     "text": [
      "Aperçu des données d'entraînement :\n",
      "   00  000  000pes  008704050406  0089  0121  01223585236  01223585334  \\\n",
      "0   0    0       0             0     0     0            0            0   \n",
      "1   0    0       0             0     0     0            0            0   \n",
      "2   0    0       0             0     0     0            0            0   \n",
      "3   0    0       0             0     0     0            0            0   \n",
      "4   0    0       0             0     0     0            0            0   \n",
      "\n",
      "   0125698789  02  ...  Ã»_  Ã»_thanks  Ã»Âªm  Ã»Âªt  Ã»Âªve  Ã»Ã¯  Ã»Ã¯harry  \\\n",
      "0           0   0  ...    0          0      0      0       0     0          0   \n",
      "1           0   0  ...    0          0      0      0       0     0          0   \n",
      "2           0   0  ...    0          0      0      0       0     0          0   \n",
      "3           0   0  ...    0          0      0      0       0     0          0   \n",
      "4           0   0  ...    0          0      0      0       0     0          0   \n",
      "\n",
      "   Ã»Ã²  Ã»Ã³well  target  \n",
      "0     0         0     ham  \n",
      "1     0         0     ham  \n",
      "2     0         0     ham  \n",
      "3     0         0     ham  \n",
      "4     0         0     ham  \n",
      "\n",
      "[5 rows x 8405 columns]\n",
      "\n",
      "Aperçu des données de test :\n",
      "   00  000  000pes  008704050406  0089  0121  01223585236  01223585334  \\\n",
      "0   0    0       0             0     0     0            0            0   \n",
      "1   0    0       0             0     0     0            0            0   \n",
      "2   0    0       0             0     0     0            0            0   \n",
      "3   0    2       0             0     0     0            0            0   \n",
      "4   0    0       0             0     0     0            0            0   \n",
      "\n",
      "   0125698789  02  ...  Ã»_  Ã»_thanks  Ã»Âªm  Ã»Âªt  Ã»Âªve  Ã»Ã¯  Ã»Ã¯harry  \\\n",
      "0           0   0  ...    0          0      0      0       0     0          0   \n",
      "1           0   0  ...    0          0      0      0       0     0          0   \n",
      "2           0   0  ...    0          0      0      0       0     0          0   \n",
      "3           0   0  ...    0          0      0      0       0     0          0   \n",
      "4           0   0  ...    0          0      0      0       0     0          0   \n",
      "\n",
      "   Ã»Ã²  Ã»Ã³well  target  \n",
      "0     0         0     ham  \n",
      "1     0         0     ham  \n",
      "2     0         0     ham  \n",
      "3     0         0    spam  \n",
      "4     0         0     ham  \n",
      "\n",
      "[5 rows x 8405 columns]\n",
      "\n",
      "Forme des données d'entraînement: (4457, 8405)\n",
      "Forme des données de test: (1115, 8405)\n",
      "\n",
      "Types de données d'entraînement :\n",
      "00               int64\n",
      "000              int64\n",
      "000pes           int64\n",
      "008704050406     int64\n",
      "0089             int64\n",
      "                 ...  \n",
      "Ã»Ã¯             int64\n",
      "Ã»Ã¯harry        int64\n",
      "Ã»Ã²             int64\n",
      "Ã»Ã³well         int64\n",
      "target          object\n",
      "Length: 8405, dtype: object\n",
      "\n",
      "Valeurs manquantes dans le train.csv :\n",
      "00              0\n",
      "000             0\n",
      "000pes          0\n",
      "008704050406    0\n",
      "0089            0\n",
      "               ..\n",
      "Ã»Ã¯            0\n",
      "Ã»Ã¯harry       0\n",
      "Ã»Ã²            0\n",
      "Ã»Ã³well        0\n",
      "target          0\n",
      "Length: 8405, dtype: int64\n",
      "\n",
      "Valeurs manquantes dans le test.csv :\n",
      "00              0\n",
      "000             0\n",
      "000pes          0\n",
      "008704050406    0\n",
      "0089            0\n",
      "               ..\n",
      "Ã»Ã¯            0\n",
      "Ã»Ã¯harry       0\n",
      "Ã»Ã²            0\n",
      "Ã»Ã³well        0\n",
      "target          0\n",
      "Length: 8405, dtype: int64\n",
      "\n",
      "Distribution des classes dans le train.csv:\n",
      "target\n",
      "ham     3859\n",
      "spam     598\n",
      "Name: count, dtype: int64\n"
     ]
    },
    {
     "data": {
      "image/png": "[encoded data removed]",
      "text/plain": [
       "<Figure size 640x480 with 1 Axes>"
      ]
     },
     "metadata": {},
     "output_type": "display_data"
    },
    {
     "name": "stdout",
     "output_type": "stream",
     "text": [
      "\n",
      "Colonnes des données d'entraînement :\n",
      "Index(['00', '000', '000pes', '008704050406', '0089', '0121', '01223585236',\n",
      "       '01223585334', '0125698789', '02',\n",
      "       ...\n",
      "       'Ã»_', 'Ã»_thanks', 'Ã»Âªm', 'Ã»Âªt', 'Ã»Âªve', 'Ã»Ã¯', 'Ã»Ã¯harry',\n",
      "       'Ã»Ã²', 'Ã»Ã³well', 'target'],\n",
      "      dtype='object', length=8405)\n",
      "\n",
      "Statistiques sur les comptages de mots dans le train.csv :\n",
      "                00          000  000pes  008704050406         0089  \\\n",
      "count  4457.000000  4457.000000  4457.0   4457.000000  4457.000000   \n",
      "mean      0.002244     0.004712     0.0      0.000224     0.000224   \n",
      "std       0.047319     0.071689     0.0      0.014979     0.014979   \n",
      "min       0.000000     0.000000     0.0      0.000000     0.000000   \n",
      "25%       0.000000     0.000000     0.0      0.000000     0.000000   \n",
      "50%       0.000000     0.000000     0.0      0.000000     0.000000   \n",
      "75%       0.000000     0.000000     0.0      0.000000     0.000000   \n",
      "max       1.000000     2.000000     0.0      1.000000     1.000000   \n",
      "\n",
      "              0121  01223585236  01223585334  0125698789           02  ...  \\\n",
      "count  4457.000000  4457.000000  4457.000000      4457.0  4457.000000  ...   \n",
      "mean      0.000224     0.000224     0.000449         0.0     0.001346  ...   \n",
      "std       0.014979     0.014979     0.021181         0.0     0.036670  ...   \n",
      "min       0.000000     0.000000     0.000000         0.0     0.000000  ...   \n",
      "25%       0.000000     0.000000     0.000000         0.0     0.000000  ...   \n",
      "50%       0.000000     0.000000     0.000000         0.0     0.000000  ...   \n",
      "75%       0.000000     0.000000     0.000000         0.0     0.000000  ...   \n",
      "max       1.000000     1.000000     1.000000         0.0     1.000000  ...   \n",
      "\n",
      "               Ã³_          Ã»_    Ã»_thanks        Ã»Âªm        Ã»Âªt  \\\n",
      "count  4457.000000  4457.000000  4457.000000  4457.000000  4457.000000   \n",
      "mean      0.000224     0.002468     0.000224     0.000224     0.000224   \n",
      "std       0.014979     0.053957     0.014979     0.014979     0.014979   \n",
      "min       0.000000     0.000000     0.000000     0.000000     0.000000   \n",
      "25%       0.000000     0.000000     0.000000     0.000000     0.000000   \n",
      "50%       0.000000     0.000000     0.000000     0.000000     0.000000   \n",
      "75%       0.000000     0.000000     0.000000     0.000000     0.000000   \n",
      "max       1.000000     2.000000     1.000000     1.000000     1.000000   \n",
      "\n",
      "            Ã»Âªve         Ã»Ã¯    Ã»Ã¯harry         Ã»Ã²  Ã»Ã³well  \n",
      "count  4457.000000  4457.000000  4457.000000  4457.000000    4457.0  \n",
      "mean      0.000224     0.000224     0.000224     0.002019       0.0  \n",
      "std       0.014979     0.014979     0.014979     0.068620       0.0  \n",
      "min       0.000000     0.000000     0.000000     0.000000       0.0  \n",
      "25%       0.000000     0.000000     0.000000     0.000000       0.0  \n",
      "50%       0.000000     0.000000     0.000000     0.000000       0.0  \n",
      "75%       0.000000     0.000000     0.000000     0.000000       0.0  \n",
      "max       1.000000     1.000000     1.000000     4.000000       0.0  \n",
      "\n",
      "[8 rows x 8404 columns]\n"
     ]
    },
    {
     "data": {
      "image/png": "[encoded data removed]",
      "text/plain": [
       "<Figure size 1200x600 with 1 Axes>"
      ]
     },
     "metadata": {},
     "output_type": "display_data"
    }
   ],
   "source": [
    "# Aperçu des données d'entraînement et de test\n",
    "print(\"Aperçu des données d'entraînement :\")\n",
    "print(train_data.head())\n",
    "\n",
    "print(\"\\nAperçu des données de test :\")\n",
    "print(test_data.head())\n",
    "\n",
    "# Vérifier la forme des datasets (nombre de lignes et de colonnes)\n",
    "print(\"\\nForme des données d'entraînement:\", train_data.shape)\n",
    "print(\"Forme des données de test:\", test_data.shape)\n",
    "\n",
    "# Vérification des types de données\n",
    "print(\"\\nTypes de données d'entraînement :\")\n",
    "print(train_data.dtypes)\n",
    "\n",
    "# Vérification des valeurs manquantes\n",
    "print(\"\\nValeurs manquantes dans le train.csv :\")\n",
    "print(train_data.isnull().sum())\n",
    "\n",
    "print(\"\\nValeurs manquantes dans le test.csv :\")\n",
    "print(test_data.isnull().sum())\n",
    "\n",
    "# Analyser la distribution des classes (ham vs spam)\n",
    "print(\"\\nDistribution des classes dans le train.csv:\")\n",
    "print(train_data['target'].value_counts())\n",
    "\n",
    "# Visualisation de la distribution des classes\n",
    "sns.countplot(x='target', data=train_data)\n",
    "plt.title('Répartition des classes: ham vs spam')\n",
    "plt.show()\n",
    "\n",
    "# Analyser les colonnes de comptage de mots (en supposant que chaque colonne représente un mot compté)\n",
    "# Nous allons vérifier les premières lignes pour comprendre la structure des données\n",
    "print(\"\\nColonnes des données d'entraînement :\")\n",
    "print(train_data.columns)\n",
    "\n",
    "# Analyser quelques statistiques sur les comptages de mots\n",
    "print(\"\\nStatistiques sur les comptages de mots dans le train.csv :\")\n",
    "print(train_data.describe())\n",
    "\n",
    "# Visualisation des comptages de mots sous forme de boxplot\n",
    "train_data.iloc[:, 1:5].plot(kind='box', figsize=(12, 6))  # Boxplot pour les premières colonnes de comptage\n",
    "plt.title('Boxplot des premières colonnes de comptage de mots')\n",
    "plt.show()\n",
    "\n",
    "# Prétraitement : Encodage de la cible (target) en valeurs numériques\n",
    "label_encoder = LabelEncoder()\n",
    "train_data['target'] = label_encoder.fit_transform(train_data['target'])\n",
    "test_data['target'] = label_encoder.transform(test_data['target'])"
   ]
  },
  {
   "cell_type": "markdown",
   "metadata": {},
   "source": [
    "### les données à entrainner"
   ]
  },
  {
   "cell_type": "code",
   "execution_count": 102,
   "metadata": {},
   "outputs": [],
   "source": [
    "# Séparer les caractéristiques (X) et la cible (y) pour les deux ensembles\n",
    "X_train = train_data.drop('target', axis=1)  # Supprimer la colonne 'target' pour les caractéristiques\n",
    "y_train = train_data['target']  # La colonne cible pour l'entraînement\n",
    "\n",
    "X_test = test_data.drop('target', axis=1)  # Supprimer la colonne 'target' pour les caractéristiques\n",
    "y_test = test_data['target']  # La colonne cible pour le test\n",
    "\n",
    "# Encoder les labels (\"spam\", \"ham\") en valeurs numériques (0 et 1)\n",
    "label_encoder = LabelEncoder()\n",
    "y_train = label_encoder.fit_transform(y_train)  # encoder les étiquettes d'entraînement\n",
    "y_test = label_encoder.transform(y_test)  # encoder les étiquettes de test\n"
   ]
  },
  {
   "cell_type": "markdown",
   "metadata": {},
   "source": [
    "### En utilisant le naive Bayes comme une modèle"
   ]
  },
  {
   "cell_type": "code",
   "execution_count": 103,
   "metadata": {},
   "outputs": [
    {
     "name": "stdout",
     "output_type": "stream",
     "text": [
      "F1 Score: 0.9311475409836065\n"
     ]
    }
   ],
   "source": [
    "# Initialiser le modèle Naive Bayes\n",
    "nb = MultinomialNB()\n",
    "\n",
    "# Entraîner le modèle sur les données d'entraînement\n",
    "nb.fit(X_train, y_train)\n",
    "\n",
    "# Prédire sur les données de test\n",
    "y_pred = nb.predict(X_test)\n",
    "\n",
    "# Calculer le F1 score\n",
    "f1 = f1_score(y_test, y_pred)\n",
    "\n",
    "# Afficher le F1 score\n",
    "print(f\"F1 Score: {f1}\")"
   ]
  },
  {
   "cell_type": "markdown",
   "metadata": {},
   "source": [
    "### en utilisant le bernuilli naive bayes"
   ]
  },
  {
   "cell_type": "code",
   "execution_count": 104,
   "metadata": {},
   "outputs": [
    {
     "name": "stdout",
     "output_type": "stream",
     "text": [
      "F1 Score (Bernoulli Naive Bayes): 0.9175627240143369\n"
     ]
    }
   ],
   "source": [
    "# Initialiser le modèle Bernoulli Naive Bayes\n",
    "bnb = BernoulliNB()\n",
    "\n",
    "# Entraîner le modèle sur les données d'entraînement\n",
    "bnb.fit(X_train, y_train)\n",
    "\n",
    "# Prédire sur les données de test\n",
    "y_pred = bnb.predict(X_test)\n",
    "\n",
    "# Calculer le F1 score\n",
    "f1 = f1_score(y_test, y_pred)\n",
    "\n",
    "# Afficher le F1 score\n",
    "print(f\"F1 Score (Bernoulli Naive Bayes): {f1}\")\n"
   ]
  },
  {
   "cell_type": "markdown",
   "metadata": {},
   "source": [
    "### en utilisant le Logistic regression"
   ]
  },
  {
   "cell_type": "code",
   "execution_count": 105,
   "metadata": {},
   "outputs": [
    {
     "name": "stdout",
     "output_type": "stream",
     "text": [
      "F1 Score (Logistic Regression): 0.9044117647058824\n"
     ]
    }
   ],
   "source": [
    "# Initialiser le modèle de régression logistique\n",
    "logreg = LogisticRegression(max_iter=1000)\n",
    "\n",
    "# Entraîner le modèle sur les données d'entraînement\n",
    "logreg.fit(X_train, y_train)\n",
    "\n",
    "# Prédire sur les données de test\n",
    "y_pred = logreg.predict(X_test)\n",
    "\n",
    "# Calculer le F1 score\n",
    "f1 = f1_score(y_test, y_pred)\n",
    "\n",
    "# Afficher le F1 score\n",
    "print(f\"F1 Score (Logistic Regression): {f1}\")\n"
   ]
  }
 ],
 "metadata": {
  "kernelspec": {
   "display_name": "Python 3",
   "language": "python",
   "name": "python3"
  },
  "language_info": {
   "codemirror_mode": {
    "name": "ipython",
    "version": 3
   },
   "file_extension": ".py",
   "mimetype": "text/x-python",
   "name": "python",
   "nbconvert_exporter": "python",
   "pygments_lexer": "ipython3",
   "version": "3.12.4"
  }
 },
 "nbformat": 4,
 "nbformat_minor": 2
}
