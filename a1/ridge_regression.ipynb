{
 "cells": [
  {
   "cell_type": "markdown",
   "id": "970a41a3",
   "metadata": {},
   "source": [
    "## MISA (2024-2025)\n",
    "- Alohan'ny mamerina dia avereno atao Run ny notebook iray manontolo. Ny fanaovana azy dia redémarrena mihitsy ny kernel aloha (jereo menubar, safidio **Kernel$\\rightarrow$Restart Kernel and Run All Cells**).\n",
    "\n",
    "- Izay misy hoe `YOUR CODE HERE` na `YOUR ANSWER HERE` ihany no fenoina. Afaka manampy cells vaovao raha ilaina. Aza adino ny mameno references eo ambany raha ilaina."
   ]
  },
  {
   "cell_type": "markdown",
   "id": "0be5b07e",
   "metadata": {},
   "source": [
    "## References\n",
    "chatgpt youtube"
   ]
  },
  {
   "cell_type": "markdown",
   "id": "6e36afe8",
   "metadata": {},
   "source": [
    "---"
   ]
  },
  {
   "cell_type": "markdown",
   "id": "c904fa90",
   "metadata": {},
   "source": [
    "# Ridge regression"
   ]
  },
  {
   "cell_type": "code",
   "execution_count": 1,
   "id": "d330606a",
   "metadata": {
    "deletable": false,
    "editable": false,
    "nbgrader": {
     "cell_type": "code",
     "checksum": "147b2f9e33e05a5043e655678f8b276f",
     "grade": false,
     "grade_id": "cell-b5e53c9e7911bdda",
     "locked": true,
     "schema_version": 3,
     "solution": false,
     "task": false
    }
   },
   "outputs": [],
   "source": [
    "import numpy as np\n",
    "import scipy\n",
    "from sklearn.metrics import mean_squared_error\n",
    "from sklearn import datasets\n",
    "from sklearn.linear_model import Ridge \n",
    "\n",
    "def rel_error(x, y):\n",
    "  \"\"\" returns relative error \"\"\"\n",
    "  return np.max(np.abs(x - y) / (np.maximum(1e-8, np.abs(x) + np.abs(y))))\n",
    "\n",
    "data = datasets.load_diabetes()\n",
    "X_train, y_train = data.data, data.target"
   ]
  },
  {
   "cell_type": "markdown",
   "id": "ad0c9496-068e-415f-8dee-6a7800d68431",
   "metadata": {},
   "source": [
    "### Inverse"
   ]
  },
  {
   "cell_type": "code",
   "execution_count": 2,
   "id": "2104c92a",
   "metadata": {
    "deletable": false,
    "nbgrader": {
     "cell_type": "code",
     "checksum": "711205bfd22df2c4563fc1d89d67c874",
     "grade": false,
     "grade_id": "cell-9eff7cc96678f670",
     "locked": false,
     "schema_version": 3,
     "solution": true,
     "task": false
    }
   },
   "outputs": [],
   "source": [
    "def fit_inverse(X, y, alpha=1.0, fit_intercept=False):\n",
    "    \"\"\"Méthode directe utilisant l'inverse pour la régression de Ridge\"\"\"\n",
    "    \n",
    "    # Ajouter l'intercept si nécessaire\n",
    "    if fit_intercept:\n",
    "        X = np.c_[np.ones(X.shape[0]), X]  # Ajouter une colonne de 1 pour l'intercept\n",
    "    \n",
    "    # Calculer la matrice X^T X + alpha * I\n",
    "    I = np.eye(X.shape[1])  # Matrice identité de taille (nombre de caractéristiques + 1 si intercept)\n",
    "    if fit_intercept:\n",
    "        I[0, 0] = 0  # Ne pas régulariser l'intercept\n",
    "    \n",
    "    # Résolution de l'équation de régression de Ridge\n",
    "    beta = np.dot(np.linalg.inv(X.T @ X + alpha * I) , np.dot(X.T, y))\n",
    "    \n",
    "    return beta"
   ]
  },
  {
   "cell_type": "code",
   "execution_count": 3,
   "id": "3d283e47",
   "metadata": {
    "deletable": false,
    "editable": false,
    "nbgrader": {
     "cell_type": "code",
     "checksum": "1b0c299f8deeb737e05c0d0ae54a8975",
     "grade": true,
     "grade_id": "cell-f846a8aee918f7c9",
     "locked": true,
     "points": 1,
     "schema_version": 3,
     "solution": false,
     "task": false
    }
   },
   "outputs": [
    {
     "name": "stdout",
     "output_type": "stream",
     "text": [
      "prediction error:  2.909795356615573e-14\n"
     ]
    }
   ],
   "source": [
    "w = fit_inverse(X_train, y_train, alpha=0.1)\n",
    "\n",
    "sk_model = Ridge(fit_intercept=False, alpha=0.1)\n",
    "sk_model.fit(X_train, y_train)\n",
    "\n",
    "error = rel_error(sk_model.coef_, w)\n",
    "print(\"prediction error: \", error)\n",
    "assert error <= 1e-11"
   ]
  },
  {
   "cell_type": "markdown",
   "id": "11e65d59-336c-45a1-8004-cd4d1b22a317",
   "metadata": {},
   "source": [
    "### QR using QR linear regression"
   ]
  },
  {
   "cell_type": "code",
   "execution_count": 4,
   "id": "9a5d6c61",
   "metadata": {
    "deletable": false,
    "nbgrader": {
     "cell_type": "code",
     "checksum": "c758a1ca053c5170fc9e732bfc173dda",
     "grade": false,
     "grade_id": "cell-8b24702cdef3e721",
     "locked": false,
     "schema_version": 3,
     "solution": true,
     "task": false
    }
   },
   "outputs": [],
   "source": [
    "def fit_qr(X, y):\n",
    "    \"\"\" QR approach \"\"\"\n",
    "    # Décomposition QR de X\n",
    "    Q, R = np.linalg.qr(X)\n",
    "    \n",
    "    # Résoudre pour beta en utilisant R et Q^T y\n",
    "    Qt_y = np.dot(Q.T, y)  # Calculer Q^T y\n",
    "    beta = np.linalg.solve(R, Qt_y)  # Résoudre R beta = Q^T y\n",
    "    \n",
    "    return beta\n",
    "\n",
    "\n",
    "def fit_qr(X, y, alpha=1.0, fit_intercept=False):\n",
    "    \"\"\"\n",
    "    Régression Ridge utilisant la décomposition QR.\n",
    "    \n",
    "    Arguments:\n",
    "    - X : Matrice des caractéristiques (numpy array)\n",
    "    - y : Vecteur cible (numpy array)\n",
    "    - alpha : Paramètre de régularisation (float)\n",
    "    - fit_intercept : Booléen, indique si l'intercept doit être ajusté.\n",
    "    \n",
    "    Retourne:\n",
    "    - beta : Coefficients de la régression Ridge.\n",
    "    \"\"\"\n",
    "    # Ajouter une colonne pour l'intercept si nécessaire\n",
    "    if fit_intercept:\n",
    "        X = np.c_[np.ones(X.shape[0]), X]\n",
    "    \n",
    "    # Décomposition QR\n",
    "    Q, R = np.linalg.qr(X)\n",
    "    \n",
    "    # Construction de la matrice régularisée\n",
    "    I = np.eye(R.shape[1])  # Matrice identité\n",
    "    if fit_intercept:\n",
    "        I[0, 0] = 0  # Ne pas régulariser l'intercept\n",
    "\n",
    "    # Résolution de (R.T @ R + alpha * I) beta = R.T @ Q.T @ y\n",
    "    beta = np.linalg.solve(np.dot(R.T , R) + alpha * I, R.T @ Q.T @ y)\n",
    "    \n",
    "    return beta\n"
   ]
  },
  {
   "cell_type": "code",
   "execution_count": 5,
   "id": "12ab2a82",
   "metadata": {
    "deletable": false,
    "editable": false,
    "nbgrader": {
     "cell_type": "code",
     "checksum": "f8e0d24a43d5bf91711b5d85483d354d",
     "grade": true,
     "grade_id": "cell-4e2cc2ac2352d713",
     "locked": true,
     "points": 1,
     "schema_version": 3,
     "solution": false,
     "task": false
    }
   },
   "outputs": [
    {
     "name": "stdout",
     "output_type": "stream",
     "text": [
      "prediction error:  5.895941028710679e-14\n"
     ]
    }
   ],
   "source": [
    "w = fit_qr(X_train, y_train, alpha=0.1)\n",
    "\n",
    "sk_model = Ridge(fit_intercept=False, alpha=0.1)\n",
    "sk_model.fit(X_train, y_train)\n",
    "\n",
    "error = rel_error(sk_model.coef_, w)\n",
    "print(\"prediction error: \", error)\n",
    "assert error <= 1e-11"
   ]
  },
  {
   "cell_type": "markdown",
   "id": "79e3868e-ac2c-4681-a8d7-8d142eb1c93e",
   "metadata": {},
   "source": [
    "### SVD"
   ]
  },
  {
   "cell_type": "code",
   "execution_count": 11,
   "id": "50e7b263",
   "metadata": {
    "deletable": false,
    "nbgrader": {
     "cell_type": "code",
     "checksum": "6db4323ffb148fc7995bf0904fffe1a5",
     "grade": false,
     "grade_id": "cell-9d32a83af0dcd96f",
     "locked": false,
     "schema_version": 3,
     "solution": true,
     "task": false
    }
   },
   "outputs": [],
   "source": [
    "def fit_svd(X, y, alpha=1.0, fit_intercept=False):\n",
    "    \"\"\"SVD approach\"\"\"\n",
    "    if fit_intercept:\n",
    "        # Ajouter une colonne de 1 à X pour le terme d'interception\n",
    "        X = np.c_[np.ones(X.shape[0]), X]\n",
    "\n",
    "    # Calculer X^T X et X^T y\n",
    "    A = np.dot(X.T, X)  # Matrice de covariances X^T X\n",
    "    b = np.dot(X.T, y)  # Matrice des produits X^T y\n",
    "\n",
    "    # Appliquer la régularisation (alpha * I)\n",
    "    I = np.eye(X.shape[1])  # Matrice identité de la même dimension que X^T X\n",
    "    if fit_intercept:\n",
    "        I[0, 0] = 0 \n",
    "    A_reg = A + alpha * I  # Matrice régulière (avec alpha pour la régularisation Ridge)\n",
    "\n",
    "    # Appliquer la décomposition SVD sur A_reg\n",
    "    U, S, Vt = np.linalg.svd(A_reg)\n",
    "\n",
    "    # Calcul de l'inverse de S\n",
    "    S_inv = np.diag(1.0 / S)\n",
    "\n",
    "    # Calculer la solution (Vt.T @ S_inv @ U.T @ b)\n",
    "    theta = np.dot(Vt.T, np.dot(S_inv, np.dot(U.T, b)))\n",
    "\n",
    "    return theta\n"
   ]
  },
  {
   "cell_type": "code",
   "execution_count": 12,
   "id": "4338933c",
   "metadata": {
    "deletable": false,
    "editable": false,
    "nbgrader": {
     "cell_type": "code",
     "checksum": "c5749a9af63918945bf950e37ecfd47a",
     "grade": true,
     "grade_id": "cell-0c38ee185ed99567",
     "locked": true,
     "points": 1,
     "schema_version": 3,
     "solution": false,
     "task": false
    }
   },
   "outputs": [
    {
     "name": "stdout",
     "output_type": "stream",
     "text": [
      "prediction error:  1.7484222244850787e-13\n"
     ]
    }
   ],
   "source": [
    "w = fit_svd(X_train, y_train, alpha=0.1)\n",
    "\n",
    "sk_model = Ridge(fit_intercept=False, alpha=0.1)\n",
    "sk_model.fit(X_train, y_train)\n",
    "\n",
    "error = rel_error(sk_model.coef_, w)\n",
    "print(\"prediction error: \", error)\n",
    "assert error <= 1e-11"
   ]
  },
  {
   "cell_type": "markdown",
   "id": "17c2ef1a",
   "metadata": {},
   "source": [
    "## Everything in a class"
   ]
  },
  {
   "cell_type": "code",
   "execution_count": 13,
   "id": "f956c776",
   "metadata": {
    "deletable": false,
    "nbgrader": {
     "cell_type": "code",
     "checksum": "1bf9b4a90202871073ea8637bf407683",
     "grade": false,
     "grade_id": "cell-3a5e87709754f3c4",
     "locked": false,
     "schema_version": 3,
     "solution": true,
     "task": false
    }
   },
   "outputs": [],
   "source": [
    "class RidgeRegression():\n",
    "    def __init__(self, fit_intercept=True, method=\"inverse\", alpha=1.0):\n",
    "        self.w = None\n",
    "        self.fit_intercept = fit_intercept\n",
    "        self.method = method\n",
    "        self.alpha = alpha\n",
    "    \n",
    "    def fit(self, X, y):\n",
    "        # Choisir la méthode en fonction de l'attribut `method`\n",
    "        if self.method == \"inverse\":\n",
    "            self.w = fit_inverse(X, y, alpha=self.alpha, fit_intercept=self.fit_intercept)\n",
    "        elif self.method == \"qr\":\n",
    "            self.w = fit_qr(X, y, alpha=self.alpha, fit_intercept=self.fit_intercept)\n",
    "        elif self.method == \"svd\":\n",
    "            self.w = fit_svd(X, y, alpha=self.alpha, fit_intercept=self.fit_intercept)\n",
    "        else:\n",
    "            raise ValueError(\"Méthode non reconnue. Choisissez parmi 'inverse', 'qr', 'svd'.\")\n",
    "    \n",
    "    def predict(self, X):\n",
    "        if self.fit_intercept:\n",
    "            X = np.c_[np.ones(X.shape[0]), X]  # Ajouter une colonne de 1 pour l'interception\n",
    "        return np.dot(X, self.w)  # Calcul des prédictions\n"
   ]
  },
  {
   "cell_type": "markdown",
   "id": "0c699edf",
   "metadata": {},
   "source": [
    "## without bias"
   ]
  },
  {
   "cell_type": "code",
   "execution_count": 14,
   "id": "fd492a72",
   "metadata": {
    "deletable": false,
    "editable": false,
    "nbgrader": {
     "cell_type": "code",
     "checksum": "cea743662b86cca8d3dff7365710d238",
     "grade": true,
     "grade_id": "cell-1ae8a916f308fe2e",
     "locked": true,
     "points": 1,
     "schema_version": 3,
     "solution": false,
     "task": false
    }
   },
   "outputs": [
    {
     "name": "stdout",
     "output_type": "stream",
     "text": [
      "prediction error inverse:  2.1335231184290413e-14\n",
      "prediction error qr:  5.067117406268825e-14\n",
      "prediction error svd:  1.90164917840323e-13\n"
     ]
    }
   ],
   "source": [
    "# OTHER APPROACHES\n",
    "sk_model = Ridge(fit_intercept=False, alpha=0.1)\n",
    "sk_model.fit(X_train, y_train)\n",
    "sk_pred = sk_model.predict(X_train)\n",
    "\n",
    "model = RidgeRegression(fit_intercept=False, method=\"inverse\", alpha=0.1)\n",
    "model.fit(X_train, y_train)\n",
    "pred = model.predict(X_train)\n",
    "\n",
    "error = rel_error(pred, sk_pred)\n",
    "print(\"prediction error inverse: \", error)\n",
    "assert error <= 1e-11\n",
    "\n",
    "model_qr = RidgeRegression(fit_intercept=False, method=\"qr\", alpha=0.1)\n",
    "model_qr.fit(X_train, y_train)\n",
    "pred_qr = model_qr.predict(X_train)\n",
    "\n",
    "error_qr = rel_error(pred_qr, sk_pred)\n",
    "print(\"prediction error qr: \", error_qr)\n",
    "assert error_qr <= 1e-11\n",
    "\n",
    "model_svd = RidgeRegression(fit_intercept=False, method=\"svd\", alpha=0.1)\n",
    "model_svd.fit(X_train, y_train)\n",
    "pred_svd = model_svd.predict(X_train)\n",
    "\n",
    "error_svd = rel_error(pred_svd, sk_pred)\n",
    "print(\"prediction error svd: \", error_svd)\n",
    "assert error_svd <= 1e-11"
   ]
  },
  {
   "cell_type": "markdown",
   "id": "2c05c12a",
   "metadata": {},
   "source": [
    "## with bias"
   ]
  },
  {
   "cell_type": "code",
   "execution_count": 15,
   "id": "301e55a4",
   "metadata": {
    "deletable": false,
    "editable": false,
    "nbgrader": {
     "cell_type": "code",
     "checksum": "de4a41b8e1a5555a3c2d5bd10efdbc97",
     "grade": true,
     "grade_id": "cell-6cc5255a96b1b63e",
     "locked": true,
     "points": 1,
     "schema_version": 3,
     "solution": false,
     "task": false
    }
   },
   "outputs": [
    {
     "name": "stdout",
     "output_type": "stream",
     "text": [
      "prediction error inverse:  1.8372972587190376e-15\n",
      "prediction error qr:  1.3779729440392789e-15\n",
      "prediction error svd:  2.544290727651881e-15\n"
     ]
    }
   ],
   "source": [
    "# OTHER APPROACHES\n",
    "sk_model = Ridge(fit_intercept=True, alpha=0.1)\n",
    "sk_model.fit(X_train, y_train)\n",
    "sk_pred = sk_model.predict(X_train)\n",
    "\n",
    "model = RidgeRegression(fit_intercept=True, method=\"inverse\", alpha=0.1)\n",
    "model.fit(X_train, y_train)\n",
    "pred = model.predict(X_train)\n",
    "\n",
    "error = rel_error(pred, sk_pred)\n",
    "print(\"prediction error inverse: \", error)\n",
    "assert error <= 1e-11\n",
    "\n",
    "model_qr = RidgeRegression(fit_intercept=True, method=\"qr\", alpha=0.1)\n",
    "model_qr.fit(X_train, y_train)\n",
    "pred_qr = model_qr.predict(X_train)\n",
    "\n",
    "error_qr = rel_error(pred_qr, sk_pred)\n",
    "print(\"prediction error qr: \", error_qr)\n",
    "assert error_qr <= 1e-11\n",
    "\n",
    "model_svd = RidgeRegression(fit_intercept=True, method=\"svd\", alpha=0.1)\n",
    "model_svd.fit(X_train, y_train)\n",
    "pred_svd = model_svd.predict(X_train)\n",
    "\n",
    "error_svd = rel_error(pred_svd, sk_pred)\n",
    "print(\"prediction error svd: \", error_svd)\n",
    "assert error_svd <= 1e-11"
   ]
  }
 ],
 "metadata": {
  "kernelspec": {
   "display_name": "Python 3",
   "language": "python",
   "name": "python3"
  },
  "language_info": {
   "codemirror_mode": {
    "name": "ipython",
    "version": 3
   },
   "file_extension": ".py",
   "mimetype": "text/x-python",
   "name": "python",
   "nbconvert_exporter": "python",
   "pygments_lexer": "ipython3",
   "version": "3.12.4"
  }
 },
 "nbformat": 4,
 "nbformat_minor": 5
}
