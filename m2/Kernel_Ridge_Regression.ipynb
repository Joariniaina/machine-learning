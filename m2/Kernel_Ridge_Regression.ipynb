{
 "cells": [
  {
   "cell_type": "markdown",
   "id": "2aa0dfbf",
   "metadata": {},
   "source": [
    "## MISA (2024-2025)\n",
    "- Alohan'ny mamerina dia avereno atao Run ny notebook iray manontolo. Ny fanaovana azy dia redémarrena mihitsy ny kernel aloha (jereo menubar, safidio **Kernel$\\rightarrow$Restart Kernel and Run All Cells**).\n",
    "\n",
    "- Izay misy hoe `YOUR CODE HERE` na `YOUR ANSWER HERE` ihany no fenoina. Afaka manampy cells vaovao raha ilaina. Aza adino ny mameno references eo ambany raha ilaina."
   ]
  },
  {
   "cell_type": "markdown",
   "id": "1e06b0db",
   "metadata": {},
   "source": [
    "## References\n",
    "Eto ilay references rehetra no apetraka"
   ]
  },
  {
   "cell_type": "markdown",
   "id": "46369c8f",
   "metadata": {},
   "source": [
    "---"
   ]
  },
  {
   "cell_type": "code",
   "execution_count": 14,
   "id": "a168402f",
   "metadata": {
    "deletable": false,
    "editable": false,
    "nbgrader": {
     "cell_type": "code",
     "checksum": "6f1bb38b8804b40f1f328f3741874f3f",
     "grade": false,
     "grade_id": "cell-b289fcb888d3f6bd",
     "locked": true,
     "schema_version": 3,
     "solution": false,
     "task": false
    }
   },
   "outputs": [],
   "source": [
    "from sklearn.datasets import load_diabetes\n",
    "import numpy as np\n",
    "from sklearn.kernel_ridge import KernelRidge\n",
    "\n",
    "def rel_error(x, y):\n",
    "  \"\"\" returns relative error \"\"\"\n",
    "  return np.max(np.abs(x - y) / (np.maximum(1e-8, np.abs(x) + np.abs(y))))\n",
    "\n",
    "data = load_diabetes()\n",
    "X_train, y_train = data.data, data.target"
   ]
  },
  {
   "cell_type": "code",
   "execution_count": 15,
   "id": "f3efc9a0",
   "metadata": {
    "deletable": false,
    "nbgrader": {
     "cell_type": "code",
     "checksum": "72d710f13b316dae944616a03c487431",
     "grade": false,
     "grade_id": "cell-d36cbb79389907e8",
     "locked": false,
     "schema_version": 3,
     "solution": true,
     "task": false
    }
   },
   "outputs": [],
   "source": [
    "def gaussian_kernel(x1, x2, sigma=1.0):\n",
    "    return np.exp(-np.linalg.norm(x1 - x2) ** 2 / (2 * (sigma ** 2)))\n",
    "\n",
    "class KernelRidgeRegression():\n",
    "    def __init__(self, kernel, lambd=1.0):\n",
    "        self.lambd = lambd # regularization coefficient\n",
    "        self.alpha = None # dual variable\n",
    "        self.kernel = kernel # kernel function\n",
    "    \n",
    "    def fit(self, X, y):\n",
    "        n_samples = X.shape[0]\n",
    "        K = np.zeros((n_samples, n_samples))\n",
    "        for i in range(n_samples):\n",
    "            for j in range(n_samples):\n",
    "                K[i, j] = self.kernel(X[i], X[j])\n",
    "        self.alpha = np.linalg.solve(K + self.lambd * np.eye(n_samples), y)\n",
    "    \n",
    "    def predict(self, X):\n",
    "        K = np.zeros((X.shape[0], X_train.shape[0]))\n",
    "        for i in range(X.shape[0]):\n",
    "            for j in range(X_train.shape[0]):\n",
    "                K[i, j] = self.kernel(X[i], X_train[j])\n",
    "        return K.dot(self.alpha)"
   ]
  },
  {
   "cell_type": "code",
   "execution_count": 16,
   "id": "fedf3a66",
   "metadata": {
    "deletable": false,
    "editable": false,
    "nbgrader": {
     "cell_type": "code",
     "checksum": "980a29a823c7a76087cd689d1ebff241",
     "grade": true,
     "grade_id": "cell-ec40f17b949370cd",
     "locked": true,
     "points": 5,
     "schema_version": 3,
     "solution": false,
     "task": false
    }
   },
   "outputs": [
    {
     "name": "stdout",
     "output_type": "stream",
     "text": [
      "error:  3.7215422038875616e-13\n",
      "prediction error:  0.0\n"
     ]
    }
   ],
   "source": [
    "kr = KernelRidgeRegression(kernel=gaussian_kernel)\n",
    "kr.fit(X_train,y_train)\n",
    "y_pred = kr.predict(X_train)\n",
    "\n",
    "sklearn_kr = KernelRidge(kernel=gaussian_kernel)\n",
    "sklearn_kr.fit(X_train,y_train)\n",
    "sklearn_y_pred = kr.predict(X_train)\n",
    "\n",
    "error = rel_error(kr.alpha, sklearn_kr.dual_coef_)\n",
    "print(\"error: \", error)\n",
    "assert error <= 1e-11\n",
    "\n",
    "error_pred = rel_error(y_pred, sklearn_y_pred)\n",
    "print(\"prediction error: \", error_pred)\n",
    "assert error_pred <= 1e-11"
   ]
  }
 ],
 "metadata": {
  "kernelspec": {
   "display_name": "Python 3",
   "language": "python",
   "name": "python3"
  },
  "language_info": {
   "codemirror_mode": {
    "name": "ipython",
    "version": 3
   },
   "file_extension": ".py",
   "mimetype": "text/x-python",
   "name": "python",
   "nbconvert_exporter": "python",
   "pygments_lexer": "ipython3",
   "version": "3.12.4"
  }
 },
 "nbformat": 4,
 "nbformat_minor": 5
}
