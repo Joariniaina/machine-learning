{
 "cells": [
  {
   "cell_type": "markdown",
   "id": "90a474a8",
   "metadata": {},
   "source": [
    "## MISA (2024-2025)\n",
    "- Alohan'ny mamerina dia avereno atao Run ny notebook iray manontolo. Ny fanaovana azy dia redémarrena mihitsy ny kernel aloha (jereo menubar, safidio **Kernel$\\rightarrow$Restart Kernel and Run All Cells**).\n",
    "\n",
    "- Izay misy hoe `YOUR CODE HERE` na `YOUR ANSWER HERE` ihany no fenoina. Afaka manampy cells vaovao raha ilaina. Aza adino ny mameno references eo ambany raha ilaina."
   ]
  },
  {
   "cell_type": "markdown",
   "id": "15ca312e",
   "metadata": {},
   "source": [
    "## References\n",
    "Eto ilay references rehetra no apetraka"
   ]
  },
  {
   "cell_type": "markdown",
   "id": "136e0578",
   "metadata": {},
   "source": [
    "* https://datascientest.com/knn\n",
    "* https://cendikiaishmatuka.medium.com/k-nearest-neighbors-knn-implementation-using-python-a1ea9d89f582"
   ]
  },
  {
   "cell_type": "markdown",
   "id": "dde6e869",
   "metadata": {},
   "source": [
    "---"
   ]
  },
  {
   "cell_type": "code",
   "execution_count": 1,
   "id": "aebdce2a",
   "metadata": {
    "deletable": false,
    "editable": false,
    "nbgrader": {
     "cell_type": "code",
     "checksum": "360f572d8d4a711dbdb6577b63f4b7dc",
     "grade": false,
     "grade_id": "cell-bb34820fb5daebb2",
     "locked": true,
     "schema_version": 3,
     "solution": false,
     "task": false
    }
   },
   "outputs": [],
   "source": [
    "# AZA MANAMPY CODE ATO FA MNAOVA CELLULE VAOVAO\n",
    "\n",
    "from random import randrange\n",
    "import numpy as np\n",
    "from sklearn.metrics import mean_squared_error, log_loss\n",
    "from sklearn.datasets import load_diabetes, load_iris, load_digits\n",
    "from sklearn.metrics import accuracy_score\n",
    "from sklearn.model_selection import train_test_split\n",
    "from sklearn.neighbors import KNeighborsClassifier\n",
    "import warnings\n",
    "warnings.filterwarnings(\"ignore\")\n",
    "\n",
    "def rel_error(x, y):\n",
    "    \"\"\" returns relative error \"\"\"\n",
    "    return np.max(np.abs(x - y) / (np.maximum(1e-8, np.abs(x) + np.abs(y))))"
   ]
  },
  {
   "cell_type": "markdown",
   "id": "62032646",
   "metadata": {},
   "source": [
    "# K-Nearest Neighbor"
   ]
  },
  {
   "cell_type": "markdown",
   "id": "a3c81034",
   "metadata": {},
   "source": [
    "## Computing distances"
   ]
  },
  {
   "cell_type": "code",
   "execution_count": 2,
   "id": "8a97c549",
   "metadata": {
    "deletable": false,
    "editable": false,
    "nbgrader": {
     "cell_type": "code",
     "checksum": "858935a2455a3ca0e416b3084b730e7f",
     "grade": false,
     "grade_id": "cell-9738d380318b956f",
     "locked": true,
     "schema_version": 3,
     "solution": false,
     "task": false
    }
   },
   "outputs": [],
   "source": [
    "data = load_digits()\n",
    "X_train3, y_train3 = data.data, data.target\n",
    "X_train3, X_test3, y_train3, y_test3 = train_test_split(X_train3, y_train3, test_size=0.33, random_state=2)\n",
    "\n",
    "def get_distances_two_loops_with_norm(X_train, X_test):\n",
    "    num_test = X_test.shape[0]\n",
    "    num_train = X_train.shape[0]\n",
    "    distances = np.zeros((num_test, num_train))\n",
    "    for i in range(num_test):\n",
    "        for j in range(num_train):\n",
    "            distances[i, j] = np.linalg.norm(X_test[i] - X_train[j])\n",
    "    return distances"
   ]
  },
  {
   "cell_type": "code",
   "execution_count": 3,
   "id": "d1b01336",
   "metadata": {
    "deletable": false,
    "nbgrader": {
     "cell_type": "code",
     "checksum": "6cfd476a7819d38b3c8ef47443365f64",
     "grade": false,
     "grade_id": "cell-4756294c792f6985",
     "locked": false,
     "schema_version": 3,
     "solution": true,
     "task": false
    }
   },
   "outputs": [],
   "source": [
    "def get_distances_two_loops(X_train, X_test):\n",
    "    \"\"\"\n",
    "    Compute the distance between each test point in X_test and each training point\n",
    "    in X_train \n",
    "\n",
    "    Inputs:\n",
    "    - X_test: array of shape (num_test, D) \n",
    "\n",
    "    Returns:\n",
    "    - distances: array of shape (num_test, num_train), dists[i, j] is Euclidean distance between \n",
    "    the ith test point and the jth training point.\n",
    "    \"\"\"\n",
    "    num_test = X_test.shape[0]\n",
    "    num_train = X_train.shape[0]\n",
    "    distances = np.zeros((num_test, num_train))\n",
    "    for i in range(num_test):\n",
    "        for j in range(num_train):\n",
    "            distances[i, j] = np.sqrt(np.sum((X_test[i] - X_train[j]) ** 2))\n",
    "    return distances\n"
   ]
  },
  {
   "cell_type": "code",
   "execution_count": 4,
   "id": "da674674",
   "metadata": {
    "deletable": false,
    "editable": false,
    "nbgrader": {
     "cell_type": "code",
     "checksum": "78d07191456013c3a22619c2d26e2503",
     "grade": true,
     "grade_id": "cell-76b63cae5d6a5977",
     "locked": true,
     "points": 1,
     "schema_version": 3,
     "solution": false,
     "task": false
    }
   },
   "outputs": [
    {
     "name": "stdout",
     "output_type": "stream",
     "text": [
      "0.0\n"
     ]
    }
   ],
   "source": [
    "distances = get_distances_two_loops(X_train3, X_test3)\n",
    "true_distances = get_distances_two_loops_with_norm(X_train3, X_test3)\n",
    "\n",
    "difference = np.linalg.norm(distances - true_distances, ord='fro')\n",
    "\n",
    "print(difference)\n",
    "assert difference < 1e-10"
   ]
  },
  {
   "cell_type": "code",
   "execution_count": 5,
   "id": "69a0a04b",
   "metadata": {
    "deletable": false,
    "nbgrader": {
     "cell_type": "code",
     "checksum": "3b98a31f8ab9e6b8bd5a18ea02dd7165",
     "grade": false,
     "grade_id": "cell-05658431df004915",
     "locked": false,
     "schema_version": 3,
     "solution": true,
     "task": false
    }
   },
   "outputs": [],
   "source": [
    "def compute_distances_one_loop(X_train, X_test):\n",
    "    \"\"\"\n",
    "    Compute the distance between each test point in X_test and each training point\n",
    "    in X_train.\n",
    "\n",
    "    Inputs:\n",
    "    - X_train: array of shape (num_train, D) \n",
    "    - X_test: array of shape (num_test, D) \n",
    "\n",
    "    Returns:\n",
    "    - distances: array of shape (num_test, num_train), distances[i, j] is the Euclidean distance between \n",
    "    the ith test point and the jth training point.\n",
    "    \"\"\"\n",
    "    num_test = X_test.shape[0]\n",
    "    num_train = X_train.shape[0]\n",
    "    distances = np.zeros((num_test, num_train))\n",
    "    for i in range(num_test):\n",
    "        # Calculate the squared differences\n",
    "        squared_diffs = (X_train - X_test[i, :]) ** 2\n",
    "        # Sum the squared differences along the feature dimension\n",
    "        squared_distances = np.sum(squared_diffs, axis=1)\n",
    "        # Take the square root to get the Euclidean distance\n",
    "        distances[i, :] = np.sqrt(squared_distances)\n",
    "    \n",
    "    return distances\n"
   ]
  },
  {
   "cell_type": "code",
   "execution_count": 6,
   "id": "2540b717",
   "metadata": {
    "deletable": false,
    "editable": false,
    "nbgrader": {
     "cell_type": "code",
     "checksum": "6a9d09964868df2c201e48372082c2e5",
     "grade": true,
     "grade_id": "cell-cfa64f63da5511f9",
     "locked": true,
     "points": 1,
     "schema_version": 3,
     "solution": false,
     "task": false
    }
   },
   "outputs": [
    {
     "name": "stdout",
     "output_type": "stream",
     "text": [
      "0.0\n"
     ]
    }
   ],
   "source": [
    "distances = compute_distances_one_loop(X_train3, X_test3)\n",
    "true_distances = get_distances_two_loops_with_norm(X_train3, X_test3)\n",
    "\n",
    "difference = np.linalg.norm(distances - true_distances, ord='fro')\n",
    "\n",
    "print(difference)\n",
    "assert difference < 1e-10"
   ]
  },
  {
   "cell_type": "code",
   "execution_count": 7,
   "id": "c3788be0",
   "metadata": {
    "deletable": false,
    "nbgrader": {
     "cell_type": "code",
     "checksum": "e10c370f1f9c3e653fc817c883b7de0e",
     "grade": false,
     "grade_id": "cell-3cb10928a6af9889",
     "locked": false,
     "schema_version": 3,
     "solution": true,
     "task": false
    }
   },
   "outputs": [],
   "source": [
    "def get_distances_zero_loop(X_train, X_test):\n",
    "    \"\"\"\n",
    "    Compute the distance between each test point in X_test and each training point\n",
    "    in X_train without any explicit loops.\n",
    "\n",
    "    Inputs:\n",
    "    - X_train: array of shape (num_train, D) \n",
    "    - X_test: array of shape (num_test, D) \n",
    "\n",
    "    Returns:\n",
    "    - distances: array of shape (num_test, num_train), where distances[i, j] is \n",
    "      the Euclidean distance between the ith test point and the jth training point.\n",
    "    \"\"\"\n",
    "    # Compute squared terms for broadcasting\n",
    "    test_squared = np.sum(X_test ** 2, axis=1).reshape(-1, 1)  # Shape (num_test, 1)\n",
    "    train_squared = np.sum(X_train ** 2, axis=1).reshape(1, -1)  # Shape (1, num_train)\n",
    "\n",
    "    # Compute cross term\n",
    "    cross_term = np.dot(X_test, X_train.T)  # Shape (num_test, num_train)\n",
    "\n",
    "    # Calculate the distances\n",
    "    distances = np.sqrt(test_squared - 2 * cross_term + train_squared)\n",
    "\n",
    "    return distances\n"
   ]
  },
  {
   "cell_type": "code",
   "execution_count": 8,
   "id": "81a9294b",
   "metadata": {
    "deletable": false,
    "editable": false,
    "nbgrader": {
     "cell_type": "code",
     "checksum": "08a63c2a5bf229c55db5bdc793f5c885",
     "grade": true,
     "grade_id": "cell-ff999d4dddc0760f",
     "locked": true,
     "points": 2,
     "schema_version": 3,
     "solution": false,
     "task": false
    }
   },
   "outputs": [
    {
     "name": "stdout",
     "output_type": "stream",
     "text": [
      "0.0\n"
     ]
    }
   ],
   "source": [
    "distances = get_distances_zero_loop(X_train3, X_test3)\n",
    "true_distances = get_distances_two_loops_with_norm(X_train3, X_test3)\n",
    "\n",
    "difference = np.linalg.norm(distances - true_distances, ord='fro')\n",
    "\n",
    "print(difference)\n",
    "assert difference < 1e-10"
   ]
  },
  {
   "cell_type": "markdown",
   "id": "bc9c2ac6",
   "metadata": {},
   "source": [
    "## K-Nearest Neighbor (knn) classifier"
   ]
  },
  {
   "cell_type": "code",
   "execution_count": 43,
   "id": "2ce1e0f2",
   "metadata": {
    "deletable": false,
    "nbgrader": {
     "cell_type": "code",
     "checksum": "c2213945856056edb1cbc5174c98be4e",
     "grade": false,
     "grade_id": "cell-8d852d04f1f1e1c6",
     "locked": false,
     "schema_version": 3,
     "solution": true,
     "task": false
    }
   },
   "outputs": [],
   "source": [
    "class KNearestNeighborClassifier:\n",
    "    \"\"\" kNN classifier using L2 distance \"\"\"\n",
    "\n",
    "    def __init__(self, k=1):\n",
    "        \"\"\"\n",
    "        Inputs:\n",
    "        - k: number of nearest neighbors that vote for the predicted labels.\n",
    "        \"\"\"\n",
    "        self.k = k\n",
    "\n",
    "    def fit(self, X, y):\n",
    "        \"\"\"\n",
    "        Train the classifier. Just memorize the training data.\n",
    "\n",
    "        Inputs:\n",
    "        - X: array of shape (num_train, D) \n",
    "        - y: array of shape (num_train,) \n",
    "        \"\"\"\n",
    "        self.X_train = X\n",
    "        self.y_train = y\n",
    "\n",
    "    def predict(self, X):\n",
    "        \"\"\"\n",
    "        Predict labels for test data using this classifier.\n",
    "\n",
    "        Inputs:\n",
    "        - X: array of shape (num_test, D) \n",
    "\n",
    "        Returns:\n",
    "        - y: array of shape (num_test,) \n",
    "        \"\"\"\n",
    "        distances = get_distances_zero_loop(self.X_train, X)\n",
    "        return self.predict_labels(distances)\n",
    "\n",
    "    def predict_labels(self, distances):\n",
    "        \"\"\"\n",
    "        Given a matrix of distances between test points and training points,\n",
    "        predict a label for each test point.\n",
    "\n",
    "        Inputs:\n",
    "        - distances: array of shape (num_test, num_train), dists[i, j] is Euclidean distance between \n",
    "        the ith test point and the jth training point.\n",
    "\n",
    "        Returns:\n",
    "        - y:  array of shape (num_test,) \n",
    "        \"\"\"\n",
    "        num_test = distances.shape[0]\n",
    "        y_pred = np.zeros(num_test, dtype=int)  # Predictions\n",
    "\n",
    "        for i in range(num_test):\n",
    "            # Sort distances and get indices of the k nearest neighbors\n",
    "            nearest_indices = np.argsort(distances[i])[:self.k]\n",
    "            \n",
    "            # Get the labels of the k nearest neighbors\n",
    "            closest_y = self.y_train[nearest_indices]\n",
    "\n",
    "            # Predict the label based on the majority vote\n",
    "            unique, counts = np.unique(closest_y, return_counts=True)\n",
    "            \n",
    "            # Get the label with the highest count; in case of tie, choose the smallest label\n",
    "            y_pred[i] = unique[np.argmax(counts)]\n",
    "\n",
    "        return y_pred\n"
   ]
  },
  {
   "cell_type": "code",
   "execution_count": 44,
   "id": "c419c1ac",
   "metadata": {
    "deletable": false,
    "editable": false,
    "nbgrader": {
     "cell_type": "code",
     "checksum": "e5ccea2db11ef9d1310203f6b2227fbc",
     "grade": true,
     "grade_id": "cell-301db44591c60d17",
     "locked": true,
     "points": 2,
     "schema_version": 3,
     "solution": false,
     "task": false
    }
   },
   "outputs": [
    {
     "name": "stdout",
     "output_type": "stream",
     "text": [
      "Accuracy scikit-learn: 0.9831649831649831\n",
      "Accuracy gradient descent model : 0.9831649831649831\n"
     ]
    }
   ],
   "source": [
    "sk_model = KNeighborsClassifier(n_neighbors=3)\n",
    "sk_model.fit(X_train3, y_train3)\n",
    "sk_pred = sk_model.predict(X_test3)\n",
    "sk_accuracy = accuracy_score(y_test3, sk_pred)\n",
    "\n",
    "model = KNearestNeighborClassifier(k=3)\n",
    "model.fit(X_train3, y_train3)\n",
    "pred = model.predict(X_test3)\n",
    "model_accuracy = accuracy_score(y_test3, pred)\n",
    "\n",
    "print(\"Accuracy scikit-learn:\", sk_accuracy)\n",
    "print(\"Accuracy gradient descent model :\", model_accuracy)\n",
    "assert sk_accuracy - model_accuracy < 1e-10"
   ]
  },
  {
   "cell_type": "markdown",
   "id": "792bbc93",
   "metadata": {},
   "source": [
    "## cross-validation"
   ]
  },
  {
   "cell_type": "code",
   "execution_count": 60,
   "id": "d4c44832",
   "metadata": {
    "deletable": false,
    "nbgrader": {
     "cell_type": "code",
     "checksum": "0433a47c347be926b4625f181c01d120",
     "grade": false,
     "grade_id": "cell-adaaf6c0d8cdce0a",
     "locked": false,
     "schema_version": 3,
     "solution": true,
     "task": false
    }
   },
   "outputs": [
    {
     "name": "stdout",
     "output_type": "stream",
     "text": [
      "[array([1, 0, 0, 0, 1, 0, 0, 1, 1, 0, 1, 0, 1, 1, 1, 1, 1, 0, 1, 1]), array([1, 1, 1, 1, 1, 0, 0, 0, 1, 1, 0, 1, 1, 0, 0, 0, 1, 0, 1, 1]), array([1, 1, 0, 0, 1, 1, 0, 0, 0, 0, 0, 0, 0, 1, 0, 1, 1, 1, 0, 0]), array([0, 0, 0, 1, 1, 0, 1, 0, 1, 1, 0, 0, 0, 0, 1, 0, 0, 1, 0, 0]), array([0, 1, 0, 1, 0, 1, 0, 1, 0, 1, 1, 1, 1, 0, 1, 1, 1, 1, 0, 0])]\n",
      "k = 1: Mean accuracy = 0.5300, Accuracies = [np.float64(0.6), np.float64(0.5), np.float64(0.5), np.float64(0.5), np.float64(0.55)]\n",
      "k = 3: Mean accuracy = 0.5400, Accuracies = [np.float64(0.55), np.float64(0.5), np.float64(0.45), np.float64(0.7), np.float64(0.5)]\n",
      "k = 5: Mean accuracy = 0.6000, Accuracies = [np.float64(0.55), np.float64(0.45), np.float64(0.65), np.float64(0.8), np.float64(0.55)]\n",
      "k = 8: Mean accuracy = 0.5100, Accuracies = [np.float64(0.5), np.float64(0.4), np.float64(0.55), np.float64(0.75), np.float64(0.35)]\n",
      "k = 10: Mean accuracy = 0.5200, Accuracies = [np.float64(0.45), np.float64(0.5), np.float64(0.5), np.float64(0.8), np.float64(0.35)]\n",
      "k = 12: Mean accuracy = 0.4500, Accuracies = [np.float64(0.4), np.float64(0.45), np.float64(0.4), np.float64(0.6), np.float64(0.4)]\n",
      "k = 15: Mean accuracy = 0.4200, Accuracies = [np.float64(0.3), np.float64(0.4), np.float64(0.5), np.float64(0.5), np.float64(0.4)]\n",
      "k = 20: Mean accuracy = 0.4500, Accuracies = [np.float64(0.4), np.float64(0.5), np.float64(0.55), np.float64(0.45), np.float64(0.35)]\n",
      "k = 50: Mean accuracy = 0.4600, Accuracies = [np.float64(0.6), np.float64(0.45), np.float64(0.5), np.float64(0.35), np.float64(0.4)]\n",
      "k = 100: Mean accuracy = 0.3900, Accuracies = [np.float64(0.4), np.float64(0.4), np.float64(0.4), np.float64(0.35), np.float64(0.4)]\n"
     ]
    }
   ],
   "source": [
    "\n",
    "num_folds = 5\n",
    "k_choices = [1, 3, 5, 8, 10, 12, 15, 20, 50, 100]\n",
    "\n",
    "\n",
    "X_train = np.random.rand(100, 5)  \n",
    "y_train = np.random.randint(0, 2, 100)  # Labels (0 ou 1)\n",
    "\n",
    "\n",
    "X_train_folds = np.array_split(X_train, num_folds)\n",
    "y_train_folds = np.array_split(y_train, num_folds)\n",
    "\n",
    "# K-fold cross-validation\n",
    "k_to_accuracies = {}\n",
    "\n",
    "for k in k_choices:\n",
    "    accuracies = []  \n",
    "    \n",
    "    for fold in range(num_folds):\n",
    "        X_valid = X_train_folds[fold]\n",
    "        y_valid = y_train_folds[fold]\n",
    "        \n",
    "        X_train_cv = np.vstack([X_train_folds[i] for i in range(num_folds) if i != fold])\n",
    "        y_train_cv = np.hstack([y_train_folds[i] for i in range(num_folds) if i != fold])\n",
    "        \n",
    "        # use kNN classifier\n",
    "        knn = KNearestNeighborClassifier(k=k)\n",
    "        knn.fit(X_train_cv, y_train_cv)\n",
    "        \n",
    "        y_pred = knn.predict(X_valid)\n",
    "        \n",
    "        accuracy = np.mean(y_pred == y_valid)\n",
    "        accuracies.append(accuracy)\n",
    "    \n",
    "\n",
    "    k_to_accuracies[k] = accuracies\n",
    "\n",
    "for k in k_choices:\n",
    "    print(f\"k = {k}: Mean accuracy = {np.mean(k_to_accuracies[k]):.4f}, Accuracies = {k_to_accuracies[k]}\")\n"
   ]
  },
  {
   "cell_type": "code",
   "execution_count": 14,
   "id": "110ef5f7",
   "metadata": {
    "deletable": false,
    "editable": false,
    "nbgrader": {
     "cell_type": "code",
     "checksum": "1f539a48494772e41230a2b590897508",
     "grade": true,
     "grade_id": "cell-4d0c3c0a08ed3f82",
     "locked": true,
     "points": 2,
     "schema_version": 3,
     "solution": false,
     "task": false
    }
   },
   "outputs": [
    {
     "name": "stdout",
     "output_type": "stream",
     "text": [
      "k = 1, accuracy = 0.700000\n",
      "k = 1, accuracy = 0.700000\n",
      "k = 1, accuracy = 0.500000\n",
      "k = 1, accuracy = 0.450000\n",
      "k = 1, accuracy = 0.400000\n",
      "k = 3, accuracy = 0.650000\n",
      "k = 3, accuracy = 0.750000\n",
      "k = 3, accuracy = 0.550000\n",
      "k = 3, accuracy = 0.450000\n",
      "k = 3, accuracy = 0.450000\n",
      "k = 5, accuracy = 0.700000\n",
      "k = 5, accuracy = 0.800000\n",
      "k = 5, accuracy = 0.700000\n",
      "k = 5, accuracy = 0.500000\n",
      "k = 5, accuracy = 0.500000\n",
      "k = 8, accuracy = 0.600000\n",
      "k = 8, accuracy = 0.600000\n",
      "k = 8, accuracy = 0.650000\n",
      "k = 8, accuracy = 0.550000\n",
      "k = 8, accuracy = 0.400000\n",
      "k = 10, accuracy = 0.600000\n",
      "k = 10, accuracy = 0.800000\n",
      "k = 10, accuracy = 0.600000\n",
      "k = 10, accuracy = 0.550000\n",
      "k = 10, accuracy = 0.350000\n",
      "k = 12, accuracy = 0.600000\n",
      "k = 12, accuracy = 0.750000\n",
      "k = 12, accuracy = 0.650000\n",
      "k = 12, accuracy = 0.550000\n",
      "k = 12, accuracy = 0.350000\n",
      "k = 15, accuracy = 0.550000\n",
      "k = 15, accuracy = 0.700000\n",
      "k = 15, accuracy = 0.650000\n",
      "k = 15, accuracy = 0.500000\n",
      "k = 15, accuracy = 0.350000\n",
      "k = 20, accuracy = 0.600000\n",
      "k = 20, accuracy = 0.750000\n",
      "k = 20, accuracy = 0.650000\n",
      "k = 20, accuracy = 0.500000\n",
      "k = 20, accuracy = 0.350000\n",
      "k = 50, accuracy = 0.650000\n",
      "k = 50, accuracy = 0.800000\n",
      "k = 50, accuracy = 0.650000\n",
      "k = 50, accuracy = 0.650000\n",
      "k = 50, accuracy = 0.350000\n",
      "k = 100, accuracy = 0.650000\n",
      "k = 100, accuracy = 0.750000\n",
      "k = 100, accuracy = 0.650000\n",
      "k = 100, accuracy = 0.700000\n",
      "k = 100, accuracy = 0.350000\n"
     ]
    }
   ],
   "source": [
    "for k in sorted(k_to_accuracies):\n",
    "    for accuracy in k_to_accuracies[k]:\n",
    "        print('k = %d, accuracy = %f' % (k, accuracy))"
   ]
  }
 ],
 "metadata": {
  "kernelspec": {
   "display_name": "Python 3",
   "language": "python",
   "name": "python3"
  },
  "language_info": {
   "codemirror_mode": {
    "name": "ipython",
    "version": 3
   },
   "file_extension": ".py",
   "mimetype": "text/x-python",
   "name": "python",
   "nbconvert_exporter": "python",
   "pygments_lexer": "ipython3",
   "version": "3.12.4"
  }
 },
 "nbformat": 4,
 "nbformat_minor": 5
}
