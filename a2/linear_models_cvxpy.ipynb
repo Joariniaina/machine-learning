{
 "cells": [
  {
   "cell_type": "markdown",
   "id": "dbda0191",
   "metadata": {},
   "source": [
    "## MISA (2024-2025)\n",
    "- Alohan'ny mamerina dia avereno atao Run ny notebook iray manontolo. Ny fanaovana azy dia redémarrena mihitsy ny kernel aloha (jereo menubar, safidio **Kernel$\\rightarrow$Restart Kernel and Run All Cells**).\n",
    "\n",
    "- Izay misy hoe `YOUR CODE HERE` na `YOUR ANSWER HERE` ihany no fenoina. Afaka manampy cells vaovao raha ilaina. Aza adino ny mameno references eo ambany raha ilaina."
   ]
  },
  {
   "cell_type": "markdown",
   "id": "48346b83",
   "metadata": {},
   "source": [
    "## References\n",
    "* https://www.cvxpy.org/examples/index.html\n",
    "* https://scikit-learn.org/stable/modules/linear_model.html#ridge-regression\n",
    "* [Lasso regression](https://scikit-learn.org/1.6/modules/generated/sklearn.linear_model.Lasso.html)\n",
    "* [Linear regression(scikit-learn)](https://scikit-learn.org/1.5/modules/generated/sklearn.linear_model.LinearRegression.html)"
   ]
  },
  {
   "cell_type": "markdown",
   "id": "53a72d6c",
   "metadata": {},
   "source": [
    "---"
   ]
  },
  {
   "cell_type": "markdown",
   "id": "b3ea27df",
   "metadata": {},
   "source": [
    "# Linear regression"
   ]
  },
  {
   "cell_type": "code",
   "execution_count": 55,
   "id": "b73e7ab1",
   "metadata": {
    "deletable": false,
    "editable": false,
    "nbgrader": {
     "cell_type": "code",
     "checksum": "3967752a7aff538e2673f9a3a59e86e2",
     "grade": false,
     "grade_id": "cell-16de52db13260dca",
     "locked": true,
     "schema_version": 3,
     "solution": false,
     "task": false
    },
    "tags": []
   },
   "outputs": [],
   "source": [
    "import numpy as np\n",
    "import scipy\n",
    "from sklearn.metrics import mean_squared_error\n",
    "from sklearn import datasets\n",
    "from sklearn.linear_model import LinearRegression as LR\n",
    "import cvxpy as cp\n",
    "from sklearn.linear_model import Ridge, Lasso\n",
    "import warnings\n",
    "import random\n",
    "warnings.filterwarnings(\"ignore\")\n",
    "\n",
    "np.random.seed(1)\n",
    "random.seed(1)\n",
    "\n",
    "def rel_error(x, y):\n",
    "    \"\"\" returns relative error \"\"\"\n",
    "    return np.max(np.abs(x - y) / (np.maximum(1e-8, np.abs(x) + np.abs(y))))\n",
    "\n",
    "def generate_data(N=100, d=20, sigma=5):\n",
    "    \"\"\" Data for Ridge \"\"\"\n",
    "    w_star = np.random.randn(d)\n",
    "    X = np.random.randn(N, d)\n",
    "    y = X.dot(w_star) + np.random.normal(0, sigma, size=N)\n",
    "    return X, y\n",
    "\n",
    "def generate_data_lasso(N=100, d=20, sigma=5, density=0.2):\n",
    "    \"\"\" Data for Lasso \"\"\"\n",
    "    w_star = np.random.randn(d)\n",
    "    idxs = np.random.choice(range(d), int((1-density)*d), replace=False)\n",
    "    for idx in idxs:\n",
    "        w_star[idx] = 0\n",
    "    X = np.random.randn(N,d)\n",
    "    y = X.dot(w_star) + np.random.normal(0, sigma, size=N)\n",
    "    return X, y\n",
    "\n",
    "data = datasets.load_diabetes()\n",
    "X_train, y_train = data.data, data.target\n",
    "X_train2, y_train2 = generate_data()\n",
    "X_train3, y_train3 = generate_data_lasso()"
   ]
  },
  {
   "cell_type": "code",
   "execution_count": 56,
   "id": "769e26a5",
   "metadata": {
    "deletable": false,
    "nbgrader": {
     "cell_type": "code",
     "checksum": "2c58656cb5de62c9c7f796b0f571170d",
     "grade": false,
     "grade_id": "cell-b26e1f499f3c7e94",
     "locked": false,
     "schema_version": 3,
     "solution": true,
     "task": false
    },
    "tags": []
   },
   "outputs": [],
   "source": [
    "class LinearRegression:\n",
    "    def __init__(self, fit_intercept=True):\n",
    "        self.w = None  # Coefficients\n",
    "        self.bias = 0  # Interception\n",
    "        self.fit_intercept = fit_intercept  # Inclure un biais ou non\n",
    "\n",
    "    def fit(self, X, y):\n",
    "        \"\"\"\n",
    "        Ajuste le modèle avec CVXPY.\n",
    "        \"\"\"\n",
    "        n, d = X.shape\n",
    "        w = cp.Variable(d)  # Déclare les variables des coefficients\n",
    "\n",
    "        if self.fit_intercept:\n",
    "            b = cp.Variable()  # Déclare la variable pour l'interception\n",
    "            objective = cp.Minimize(cp.sum_squares(X @ w + b - y))\n",
    "            problem = cp.Problem(objective)\n",
    "        else:\n",
    "            objective = cp.Minimize(cp.sum_squares(X @ w - y))\n",
    "            problem = cp.Problem(objective)\n",
    "\n",
    "        # Résolution du problème d'optimisation\n",
    "        problem.solve()\n",
    "\n",
    "        # Stockage des résultats\n",
    "        self.w = w.value\n",
    "        if self.fit_intercept:\n",
    "            self.bias = b.value\n",
    "\n",
    "    def predict(self, X):\n",
    "        \"\"\"\n",
    "        Prédit les valeurs pour les données d'entrée X.\n",
    "        \"\"\"\n",
    "        if self.fit_intercept:\n",
    "            return X @ self.w + self.bias\n",
    "        else:\n",
    "            return X @ self.w\n"
   ]
  },
  {
   "cell_type": "code",
   "execution_count": 57,
   "id": "b0fa2686",
   "metadata": {
    "deletable": false,
    "editable": false,
    "nbgrader": {
     "cell_type": "code",
     "checksum": "d23abdf19235e099eb25de4ac183072b",
     "grade": true,
     "grade_id": "cell-c54f917a47030e40",
     "locked": true,
     "points": 1,
     "schema_version": 3,
     "solution": false,
     "task": false
    },
    "tags": []
   },
   "outputs": [
    {
     "name": "stdout",
     "output_type": "stream",
     "text": [
      "prediction error:  1.4580909060822262e-13\n"
     ]
    }
   ],
   "source": [
    "# Without bias\n",
    "sk_model = LR(fit_intercept=False)\n",
    "sk_model.fit(X_train, y_train)\n",
    "sk_pred = sk_model.predict(X_train)\n",
    "\n",
    "model = LinearRegression(fit_intercept=False)\n",
    "model.fit(X_train, y_train)\n",
    "pred = model.predict(X_train)\n",
    "\n",
    "error = rel_error(pred, sk_pred)\n",
    "print(\"prediction error: \", error)\n",
    "assert error <= 1e-11"
   ]
  },
  {
   "cell_type": "code",
   "execution_count": 58,
   "id": "af10c9b3",
   "metadata": {
    "deletable": false,
    "editable": false,
    "nbgrader": {
     "cell_type": "code",
     "checksum": "a7cf6921120e95bdd4eb978f84e047a2",
     "grade": true,
     "grade_id": "cell-f84c655ad371e604",
     "locked": true,
     "points": 1,
     "schema_version": 3,
     "solution": false,
     "task": false
    },
    "tags": []
   },
   "outputs": [
    {
     "name": "stdout",
     "output_type": "stream",
     "text": [
      "prediction error:  1.1190861660841664e-15\n"
     ]
    }
   ],
   "source": [
    "# With bias\n",
    "sk_model = LR(fit_intercept=True)\n",
    "sk_model.fit(X_train, y_train)\n",
    "sk_pred = sk_model.predict(X_train)\n",
    "\n",
    "model = LinearRegression(fit_intercept=True)\n",
    "model.fit(X_train, y_train)\n",
    "pred = model.predict(X_train)\n",
    "\n",
    "error = rel_error(pred, sk_pred)\n",
    "print(\"prediction error: \", error)\n",
    "assert error <= 1e-11"
   ]
  },
  {
   "cell_type": "markdown",
   "id": "46705a9d",
   "metadata": {},
   "source": [
    "# Ridge regression"
   ]
  },
  {
   "cell_type": "code",
   "execution_count": null,
   "id": "87f22e57",
   "metadata": {
    "deletable": false,
    "nbgrader": {
     "cell_type": "code",
     "checksum": "0c3c4bb168c2013e8d126ccc9eb24225",
     "grade": false,
     "grade_id": "cell-3693cf36f3dd86a8",
     "locked": false,
     "schema_version": 3,
     "solution": true,
     "task": false
    },
    "tags": []
   },
   "outputs": [],
   "source": [
    "import cvxpy as cp\n",
    "import numpy as np\n",
    "\n",
    "# Classe RidgeRegression\n",
    "class RidgeRegression:\n",
    "    def __init__(self, fit_intercept=True, alpha=1.0):\n",
    "        self.w = None\n",
    "        self.b = None\n",
    "        self.fit_intercept = fit_intercept\n",
    "        self.alpha = alpha\n",
    "\n",
    "    def fit(self, X, y):\n",
    "        n_samples, n_features = X.shape\n",
    "        w = cp.Variable(n_features)\n",
    "        b = cp.Variable() if self.fit_intercept else 0  # Crée un biais si demandé\n",
    "\n",
    "        # Formulation de l'objectif\n",
    "        if self.fit_intercept:\n",
    "            objective = cp.Minimize(\n",
    "                cp.sum_squares(y - X @ w - b) + self.alpha * cp.norm(w, 2)**2\n",
    "            )\n",
    "        else:  # Sans biais\n",
    "            objective = cp.Minimize(\n",
    "                cp.sum_squares(y - X @ w) + self.alpha * cp.norm(w, 2)**2\n",
    "            )\n",
    "\n",
    "        # Résolution du problème d'optimisation\n",
    "        problem = cp.Problem(objective)\n",
    "        problem.solve()\n",
    "\n",
    "        # Stockage des résultats\n",
    "        self.w = w.value\n",
    "        self.b = b.value if self.fit_intercept else 0\n",
    "\n",
    "    def predict(self, X):\n",
    "        return X @ self.w + (self.b if self.fit_intercept else 0)\n",
    "\n",
    "# Fonction d'erreur relative\n",
    "def rel_error(x, y):\n",
    "    return np.linalg.norm(x - y) / np.linalg.norm(y)\n",
    "\n",
    "# Cas de test : RidgeRegression sans biais\n",
    "np.random.seed(42)  # Fixe la graine pour la reproductibilité\n",
    "X_train2 = np.random.randn(100, 20)  # Matrice d'entraînement\n",
    "y_train2 = np.random.randn(100)     # Cibles\n",
    "\n",
    "# Solution attendue\n",
    "w_solution = [2.2741331962708733, -1.4638470967067754, -1.0248494680125682, -2.0920403465511344,\n",
    "              0.19793283915844787, -1.5186692704860287, 1.4772054728555917, -0.5873242037184364,\n",
    "              0.9478891631775056, 0.20512816292505345, 1.251288772139991, -2.681990788073989,\n",
    "              0.04476204682607866, -0.8659943546608414, 0.6794151132231774, -0.45806886087608134,\n",
    "              -0.11772977214105436, -1.5167038016358336, -0.7285498050097046, 1.1970655855063765]\n",
    "\n",
    "# Modèle RidgeRegression sans biais\n",
    "model = RidgeRegression(fit_intercept=False, alpha=0.1)\n",
    "model.fit(X_train2, y_train2)\n",
    "\n",
    "# Calcul de l'erreur\n",
    "error = rel_error(model.w, w_solution)\n",
    "print(\"Prediction error: \", error)\n",
    "assert error <= 1e-8, \"L'erreur relative est trop élevée.\"\n"
   ]
  },
  {
   "cell_type": "code",
   "execution_count": 60,
   "id": "b4db594c",
   "metadata": {
    "deletable": false,
    "editable": false,
    "nbgrader": {
     "cell_type": "code",
     "checksum": "ed458e2060d296bcad7663e43ea943d4",
     "grade": true,
     "grade_id": "cell-9f5f3ed765239788",
     "locked": true,
     "points": 1,
     "schema_version": 3,
     "solution": false,
     "task": false
    },
    "tags": []
   },
   "outputs": [
    {
     "name": "stdout",
     "output_type": "stream",
     "text": [
      "prediction error:  1.0152836453925162e-06\n"
     ]
    },
    {
     "ename": "AssertionError",
     "evalue": "",
     "output_type": "error",
     "traceback": [
      "\u001b[0;31m---------------------------------------------------------------------------\u001b[0m",
      "\u001b[0;31mAssertionError\u001b[0m                            Traceback (most recent call last)",
      "Cell \u001b[0;32mIn[60], line 8\u001b[0m\n\u001b[1;32m      6\u001b[0m error \u001b[38;5;241m=\u001b[39m rel_error(model\u001b[38;5;241m.\u001b[39mw, w_solution)\n\u001b[1;32m      7\u001b[0m \u001b[38;5;28mprint\u001b[39m(\u001b[38;5;124m\"\u001b[39m\u001b[38;5;124mprediction error: \u001b[39m\u001b[38;5;124m\"\u001b[39m, error)\n\u001b[0;32m----> 8\u001b[0m \u001b[38;5;28;01massert\u001b[39;00m error \u001b[38;5;241m<\u001b[39m\u001b[38;5;241m=\u001b[39m \u001b[38;5;241m1e-8\u001b[39m\n",
      "\u001b[0;31mAssertionError\u001b[0m: "
     ]
    }
   ],
   "source": [
    "# without bias\n",
    "model = RidgeRegression(fit_intercept=False, alpha=0.1)\n",
    "model.fit(X_train2, y_train2)\n",
    "\n",
    "w_solution = [2.2741331962708733,-1.4638470967067754,-1.0248494680125682,-2.0920403465511344,0.19793283915844787,-1.5186692704860287,1.4772054728555917,-0.5873242037184364,0.9478891631775056,0.20512816292505345,1.251288772139991,-2.681990788073989,0.04476204682607866,-0.8659943546608414,0.6794151132231774,-0.45806886087608134,-0.11772977214105436,-1.5167038016358336,-0.7285498050097046,1.1970655855063765]\n",
    "error = rel_error(model.w, w_solution)\n",
    "print(\"prediction error: \", error)\n",
    "assert error <= 1e-8"
   ]
  },
  {
   "cell_type": "code",
   "execution_count": null,
   "id": "a8a52d45",
   "metadata": {
    "deletable": false,
    "editable": false,
    "nbgrader": {
     "cell_type": "code",
     "checksum": "13eb703beb99a2976ad60bb9020ee453",
     "grade": true,
     "grade_id": "cell-2e465eae0bc3df36",
     "locked": true,
     "points": 1,
     "schema_version": 3,
     "solution": false,
     "task": false
    },
    "tags": []
   },
   "outputs": [
    {
     "ename": "ValueError",
     "evalue": "operands could not be broadcast together with shapes (20,) (21,) ",
     "output_type": "error",
     "traceback": [
      "\u001b[0;31m---------------------------------------------------------------------------\u001b[0m",
      "\u001b[0;31mValueError\u001b[0m                                Traceback (most recent call last)",
      "Cell \u001b[0;32mIn[26], line 6\u001b[0m\n\u001b[1;32m      3\u001b[0m model\u001b[38;5;241m.\u001b[39mfit(X_train2, y_train2)\n\u001b[1;32m      5\u001b[0m w_solution \u001b[38;5;241m=\u001b[39m [\u001b[38;5;241m-\u001b[39m\u001b[38;5;241m0.12421153467148652\u001b[39m, \u001b[38;5;241m2.2885621086080183\u001b[39m, \u001b[38;5;241m-\u001b[39m\u001b[38;5;241m1.460016084362311\u001b[39m, \u001b[38;5;241m-\u001b[39m\u001b[38;5;241m1.0386230518778734\u001b[39m, \u001b[38;5;241m-\u001b[39m\u001b[38;5;241m2.0755554006911163\u001b[39m, \u001b[38;5;241m0.16722384639912463\u001b[39m, \u001b[38;5;241m-\u001b[39m\u001b[38;5;241m1.5196366460908797\u001b[39m, \u001b[38;5;241m1.490644600189988\u001b[39m, \u001b[38;5;241m-\u001b[39m\u001b[38;5;241m0.5506589908428944\u001b[39m, \u001b[38;5;241m0.953560073286487\u001b[39m, \u001b[38;5;241m0.20519345577354192\u001b[39m, \u001b[38;5;241m1.2565834667864626\u001b[39m, \u001b[38;5;241m-\u001b[39m\u001b[38;5;241m2.6559028064874886\u001b[39m, \u001b[38;5;241m0.05943949693736531\u001b[39m, \u001b[38;5;241m-\u001b[39m\u001b[38;5;241m0.8413627640000328\u001b[39m, \u001b[38;5;241m0.689138089040695\u001b[39m, \u001b[38;5;241m-\u001b[39m\u001b[38;5;241m0.4717409588520616\u001b[39m, \u001b[38;5;241m-\u001b[39m\u001b[38;5;241m0.11380803855096185\u001b[39m, \u001b[38;5;241m-\u001b[39m\u001b[38;5;241m1.5157445906226719\u001b[39m, \u001b[38;5;241m-\u001b[39m\u001b[38;5;241m0.7155151711254747\u001b[39m, \u001b[38;5;241m1.2094429722709097\u001b[39m]\n\u001b[0;32m----> 6\u001b[0m error \u001b[38;5;241m=\u001b[39m \u001b[43mrel_error\u001b[49m\u001b[43m(\u001b[49m\u001b[43mmodel\u001b[49m\u001b[38;5;241;43m.\u001b[39;49m\u001b[43mw\u001b[49m\u001b[43m,\u001b[49m\u001b[43m \u001b[49m\u001b[43mw_solution\u001b[49m\u001b[43m)\u001b[49m\n\u001b[1;32m      7\u001b[0m \u001b[38;5;28mprint\u001b[39m(\u001b[38;5;124m\"\u001b[39m\u001b[38;5;124mprediction error: \u001b[39m\u001b[38;5;124m\"\u001b[39m, error)\n\u001b[1;32m      8\u001b[0m \u001b[38;5;28;01massert\u001b[39;00m error \u001b[38;5;241m<\u001b[39m\u001b[38;5;241m=\u001b[39m \u001b[38;5;241m1e-8\u001b[39m\n",
      "Cell \u001b[0;32mIn[1], line 17\u001b[0m, in \u001b[0;36mrel_error\u001b[0;34m(x, y)\u001b[0m\n\u001b[1;32m     15\u001b[0m \u001b[38;5;28;01mdef\u001b[39;00m \u001b[38;5;21mrel_error\u001b[39m(x, y):\n\u001b[1;32m     16\u001b[0m \u001b[38;5;250m    \u001b[39m\u001b[38;5;124;03m\"\"\" returns relative error \"\"\"\u001b[39;00m\n\u001b[0;32m---> 17\u001b[0m     \u001b[38;5;28;01mreturn\u001b[39;00m np\u001b[38;5;241m.\u001b[39mmax(np\u001b[38;5;241m.\u001b[39mabs(\u001b[43mx\u001b[49m\u001b[43m \u001b[49m\u001b[38;5;241;43m-\u001b[39;49m\u001b[43m \u001b[49m\u001b[43my\u001b[49m) \u001b[38;5;241m/\u001b[39m (np\u001b[38;5;241m.\u001b[39mmaximum(\u001b[38;5;241m1e-8\u001b[39m, np\u001b[38;5;241m.\u001b[39mabs(x) \u001b[38;5;241m+\u001b[39m np\u001b[38;5;241m.\u001b[39mabs(y))))\n",
      "\u001b[0;31mValueError\u001b[0m: operands could not be broadcast together with shapes (20,) (21,) "
     ]
    }
   ],
   "source": [
    "# with bias\n",
    "model = RidgeRegression(fit_intercept=True, alpha=0.1)\n",
    "model.fit(X_train2, y_train2)\n",
    "\n",
    "w_solution = [-0.12421153467148652, 2.2885621086080183, -1.460016084362311, -1.0386230518778734, -2.0755554006911163, 0.16722384639912463, -1.5196366460908797, 1.490644600189988, -0.5506589908428944, 0.953560073286487, 0.20519345577354192, 1.2565834667864626, -2.6559028064874886, 0.05943949693736531, -0.8413627640000328, 0.689138089040695, -0.4717409588520616, -0.11380803855096185, -1.5157445906226719, -0.7155151711254747, 1.2094429722709097]\n",
    "error = rel_error(model.w, w_solution)\n",
    "print(\"prediction error: \", error)\n",
    "assert error <= 1e-8"
   ]
  },
  {
   "cell_type": "markdown",
   "id": "72bd5799",
   "metadata": {},
   "source": [
    "# Lasso"
   ]
  },
  {
   "cell_type": "code",
   "execution_count": null,
   "id": "8251d5f9",
   "metadata": {
    "deletable": false,
    "nbgrader": {
     "cell_type": "code",
     "checksum": "6c3e6c3e30f5b393b8e964857a8ed8ae",
     "grade": false,
     "grade_id": "cell-40b17040861c7aa6",
     "locked": false,
     "schema_version": 3,
     "solution": true,
     "task": false
    },
    "tags": []
   },
   "outputs": [],
   "source": [
    "class LassoRegression():\n",
    "    def __init__(self, fit_intercept=True, alpha=1.0):\n",
    "        self.w = 0\n",
    "        self.fit_intercept = fit_intercept # bias\n",
    "        self.alpha = alpha\n",
    "    \n",
    "    def fit(self, X, y):\n",
    "        if self.fit_intercept:\n",
    "            X = np.c_[np.ones(X.shape[0]), X]\n",
    "        w = cp.Variable(X.shape[1])\n",
    "        # 1. Calcul des prédictions\n",
    "        predictions = X @ w\n",
    "        \n",
    "        # 2. Calcul de l'erreur entre les valeurs prédites et réelles\n",
    "        error = y - predictions\n",
    "        \n",
    "        # 3. Calcul de la somme des carrés des erreurs\n",
    "        squared_error = cp.sum_squares(error)\n",
    "        \n",
    "        # 4. Sélectionner les coefficients pour la régularisation (exclut le biais si fit_intercept=True)\n",
    "        if self.fit_intercept:\n",
    "            coefficients = w[1:]  # Exclut le biais\n",
    "        else:\n",
    "            coefficients = w  # Inclut tout, pas d'intercept\n",
    "        \n",
    "        # 5. Calcul de la norme L1 des coefficients (régularisation Lasso)\n",
    "        lasso_penalty = cp.norm(coefficients, 1)\n",
    "        \n",
    "        # 6. Multiplication de la norme L1 par le facteur de régularisation alpha\n",
    "        regularization_term = self.alpha * lasso_penalty\n",
    "        \n",
    "        # 7. Combinaison de la somme des carrés des erreurs et de la régularisation\n",
    "        objective_function = 0.5 * (squared_error + regularization_term)\n",
    "        \n",
    "        # 8. Définir l'objectif à minimiser dans le problème d'optimisation\n",
    "        objective = cp.Minimize(objective_function)\n",
    "            \n",
    "        problem = cp.Problem(objective)\n",
    "        problem.solve()\n",
    "        self.w = w.value\n",
    "        \n",
    "    def predict(self, X):\n",
    "        return X @ self.w"
   ]
  },
  {
   "cell_type": "code",
   "execution_count": null,
   "id": "9e4b9fdf",
   "metadata": {
    "deletable": false,
    "editable": false,
    "nbgrader": {
     "cell_type": "code",
     "checksum": "40fa9967da5ac19da289610fd2701acb",
     "grade": true,
     "grade_id": "cell-e81654fdf2aa720f",
     "locked": true,
     "points": 1,
     "schema_version": 3,
     "solution": false,
     "task": false
    },
    "tags": []
   },
   "outputs": [
    {
     "name": "stdout",
     "output_type": "stream",
     "text": [
      "prediction error:  1.759478628995635e-05\n"
     ]
    }
   ],
   "source": [
    "# without bias\n",
    "model = LassoRegression(fit_intercept=False, alpha=0.1)\n",
    "model.fit(X_train3, y_train3)\n",
    "\n",
    "w_solution = [-1.9100147979262618, 0.7990765035230449,-1.4150351849151168,-0.053950203776689305,-0.5144292378318446,-0.8702153690078576,-0.7580268973736646,-0.5514149500635509,0.5925012268211364,1.315440668095881,0.03849905192272886,0.11927141798100684,0.36097291838397416,-1.616202544905808,-0.6757568784958836,-0.32399453835549985,-0.2028754817714195,-0.03892795371339505,0.17504477432301943,0.2867205707015871]\n",
    "error = rel_error(model.w, w_solution)\n",
    "print(\"prediction error: \", error)\n",
    "assert error <= 1e-3"
   ]
  },
  {
   "cell_type": "code",
   "execution_count": null,
   "id": "a07043fd",
   "metadata": {
    "deletable": false,
    "editable": false,
    "nbgrader": {
     "cell_type": "code",
     "checksum": "5e76f6905da372898ec3a2c263b207f6",
     "grade": true,
     "grade_id": "cell-22bc5217cfae1d2f",
     "locked": true,
     "points": 1,
     "schema_version": 3,
     "solution": false,
     "task": false
    },
    "tags": []
   },
   "outputs": [
    {
     "name": "stdout",
     "output_type": "stream",
     "text": [
      "prediction error:  7.924298294929365e-06\n"
     ]
    }
   ],
   "source": [
    "# with bias\n",
    "model = LassoRegression(fit_intercept=True, alpha=0.1)\n",
    "model.fit(X_train3, y_train3)\n",
    "\n",
    "w_solution = [ 0.07301734, -1.91421264,  0.80296003, -1.4218287 , -0.05899083,-0.52089072, -0.87476486, -0.74762877, -0.55738168,  0.58676352,1.30081985,  0.04084427,  0.10350551,  0.35920092, -1.60454472,-0.67259243, -0.3254033 , -0.21224294, -0.03858079,  0.16836742,0.3038888 ]\n",
    "error = rel_error(model.w, w_solution)\n",
    "print(\"prediction error: \", error)\n",
    "assert error <= 1e-3"
   ]
  }
 ],
 "metadata": {
  "kernelspec": {
   "display_name": "Python 3",
   "language": "python",
   "name": "python3"
  },
  "language_info": {
   "codemirror_mode": {
    "name": "ipython",
    "version": 3
   },
   "file_extension": ".py",
   "mimetype": "text/x-python",
   "name": "python",
   "nbconvert_exporter": "python",
   "pygments_lexer": "ipython3",
   "version": "3.12.4"
  }
 },
 "nbformat": 4,
 "nbformat_minor": 5
}
